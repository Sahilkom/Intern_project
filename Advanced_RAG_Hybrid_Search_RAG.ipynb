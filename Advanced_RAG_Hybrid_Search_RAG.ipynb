{
  "nbformat": 4,
  "nbformat_minor": 0,
  "metadata": {
    "colab": {
      "provenance": [],
      "gpuType": "T4",
      "include_colab_link": true
    },
    "kernelspec": {
      "name": "python3",
      "display_name": "Python 3"
    },
    "language_info": {
      "name": "python"
    },
    "accelerator": "GPU"
  },
  "cells": [
    {
      "cell_type": "markdown",
      "metadata": {
        "id": "view-in-github",
        "colab_type": "text"
      },
      "source": [
        "<a href=\"https://colab.research.google.com/github/Sahilkom/Intern_project/blob/main/Advanced_RAG_Hybrid_Search_RAG.ipynb\" target=\"_parent\"><img src=\"https://colab.research.google.com/assets/colab-badge.svg\" alt=\"Open In Colab\"/></a>"
      ]
    },
    {
      "cell_type": "code",
      "execution_count": null,
      "metadata": {
        "id": "I7xhZfK_6T2G"
      },
      "outputs": [],
      "source": [
        "!pip install langchain rank_bm25 pypdf unstructured chromadb\n",
        "!pip install unstructured['pdf'] unstructured\n",
        "!apt-get install poppler-utils\n",
        "!apt-get install -y tesseract-ocr\n",
        "!apt-get install -y libtesseract-dev\n",
        "!pip install pytesseract"
      ]
    },
    {
      "cell_type": "markdown",
      "source": [
        "### Load the required Packages"
      ],
      "metadata": {
        "id": "monR9xmw6p2E"
      }
    },
    {
      "cell_type": "code",
      "source": [
        "!pip install langchain_community"
      ],
      "metadata": {
        "id": "dUHkJDBWI2xO"
      },
      "execution_count": null,
      "outputs": []
    },
    {
      "cell_type": "code",
      "source": [
        "from langchain.document_loaders import UnstructuredPDFLoader\n",
        "from langchain.text_splitter import RecursiveCharacterTextSplitter\n",
        "from langchain.vectorstores import Chroma\n",
        "\n",
        "from langchain_core.prompts import ChatPromptTemplate\n",
        "from langchain_core.output_parsers import StrOutputParser\n",
        "from langchain_core.runnables import RunnablePassthrough\n",
        "\n",
        "from langchain.embeddings import HuggingFaceInferenceAPIEmbeddings\n",
        "from langchain.llms import HuggingFaceHub\n",
        "\n",
        "from langchain.retrievers import BM25Retriever, EnsembleRetriever\n",
        "\n",
        "import os"
      ],
      "metadata": {
        "id": "hJ7NC1yB6jDX"
      },
      "execution_count": null,
      "outputs": []
    },
    {
      "cell_type": "code",
      "source": [
        "### Load the PDF file"
      ],
      "metadata": {
        "id": "GWcedXWq7unE"
      },
      "execution_count": null,
      "outputs": []
    },
    {
      "cell_type": "code",
      "source": [
        "file_path = \"/content/Data_set.pdf\"\n",
        "data_file = UnstructuredPDFLoader(file_path)\n",
        "docs = data_file.load()"
      ],
      "metadata": {
        "id": "B1II05VC6vjr",
        "colab": {
          "base_uri": "https://localhost:8080/"
        },
        "outputId": "2daf54be-b350-45f1-8dbe-d267c9a5ffe4"
      },
      "execution_count": null,
      "outputs": [
        {
          "output_type": "stream",
          "name": "stderr",
          "text": [
            "[nltk_data] Downloading package punkt to /root/nltk_data...\n",
            "[nltk_data]   Unzipping tokenizers/punkt.zip.\n",
            "[nltk_data] Downloading package averaged_perceptron_tagger to\n",
            "[nltk_data]     /root/nltk_data...\n",
            "[nltk_data]   Unzipping taggers/averaged_perceptron_tagger.zip.\n"
          ]
        }
      ]
    },
    {
      "cell_type": "code",
      "source": [
        "print(docs[0].page_content)"
      ],
      "metadata": {
        "id": "t-Prk9CtKnnM"
      },
      "execution_count": null,
      "outputs": []
    },
    {
      "cell_type": "markdown",
      "source": [
        "### Split Documents and Chunking"
      ],
      "metadata": {
        "id": "JZk8Ob1U8DZK"
      }
    },
    {
      "cell_type": "code",
      "source": [
        "# create chunks\n",
        "splitter = RecursiveCharacterTextSplitter(chunk_size=500,\n",
        "                                          chunk_overlap=100)\n",
        "chunks = splitter.split_documents(docs)"
      ],
      "metadata": {
        "id": "qYZ1j1Ns73mU"
      },
      "execution_count": null,
      "outputs": []
    },
    {
      "cell_type": "code",
      "source": [
        "chunks[0].page_content"
      ],
      "metadata": {
        "colab": {
          "base_uri": "https://localhost:8080/",
          "height": 70
        },
        "id": "3o58WVXM8SvN",
        "outputId": "e4830e01-715c-4a16-92f7-93dbab90bb47"
      },
      "execution_count": null,
      "outputs": [
        {
          "output_type": "execute_result",
          "data": {
            "text/plain": [
              "'6fyqc-cgb6r\\n\\ntable_name products sales support_tickets marketing_campaigns Stores marketing campaign information products employees employees departments inventory suppliers orders customers products sales support_tickets\\n\\ndescription Stores product information Stores sales information Stores customer support ticket information'"
            ],
            "application/vnd.google.colaboratory.intrinsic+json": {
              "type": "string"
            }
          },
          "metadata": {},
          "execution_count": 9
        }
      ]
    },
    {
      "cell_type": "code",
      "source": [
        "# Get Embedding Model from HF via API\n",
        "\n",
        "from google.colab import userdata\n",
        "HF_TOKEN = userdata.get('HUGGINGFACEHUB_API_TOKEN')\n",
        "\n",
        "embeddings = HuggingFaceInferenceAPIEmbeddings(\n",
        "    api_key=HF_TOKEN, model_name=\"BAAI/bge-base-en-v1.5\"\n",
        ")"
      ],
      "metadata": {
        "id": "Ch3SR3Wu8Tnw"
      },
      "execution_count": null,
      "outputs": []
    },
    {
      "cell_type": "markdown",
      "source": [
        "### VectorStore"
      ],
      "metadata": {
        "id": "QfB7uezt9Vud"
      }
    },
    {
      "cell_type": "code",
      "source": [
        "# Vector store with the selected embedding model\n",
        "vectorstore = Chroma.from_documents(chunks, embeddings)"
      ],
      "metadata": {
        "id": "GeIka0wR87kF"
      },
      "execution_count": null,
      "outputs": []
    },
    {
      "cell_type": "code",
      "source": [
        "vectorstore_retreiver = vectorstore.as_retriever(search_kwargs={\"k\": 3})"
      ],
      "metadata": {
        "id": "YaaxtuWw9uJM"
      },
      "execution_count": null,
      "outputs": []
    },
    {
      "cell_type": "code",
      "source": [
        "keyword_retriever = BM25Retriever.from_documents(chunks)\n",
        "keyword_retriever.k =  3"
      ],
      "metadata": {
        "id": "nMucCA4z9VAn"
      },
      "execution_count": null,
      "outputs": []
    },
    {
      "cell_type": "markdown",
      "source": [
        "### Ensemble Retriever"
      ],
      "metadata": {
        "id": "b3UCqmV5-D-r"
      }
    },
    {
      "cell_type": "code",
      "source": [
        "ensemble_retriever = EnsembleRetriever(retrievers=[vectorstore_retreiver,\n",
        "                                                   keyword_retriever],\n",
        "                                       weights=[0.4, 0.6])"
      ],
      "metadata": {
        "id": "nVhLxoWh95dv"
      },
      "execution_count": null,
      "outputs": []
    },
    {
      "cell_type": "code",
      "source": [
        "llm = HuggingFaceHub(\n",
        "    repo_id=\"HuggingFaceH4/zephyr-7b-beta\",\n",
        "    model_kwargs={\"temperature\": 0.3,\"max_new_tokens\":1024},\n",
        "    huggingfacehub_api_token=HF_TOKEN,\n",
        ")"
      ],
      "metadata": {
        "id": "AG1h9tvE-KqH",
        "colab": {
          "base_uri": "https://localhost:8080/"
        },
        "outputId": "52b09cf4-c208-4815-d6c9-df03a33d6587"
      },
      "execution_count": null,
      "outputs": [
        {
          "output_type": "stream",
          "name": "stderr",
          "text": [
            "/usr/local/lib/python3.10/dist-packages/langchain_core/_api/deprecation.py:139: LangChainDeprecationWarning: The class `HuggingFaceHub` was deprecated in LangChain 0.0.21 and will be removed in 0.3.0. An updated version of the class exists in the langchain-huggingface package and should be used instead. To use it run `pip install -U langchain-huggingface` and import as `from langchain_huggingface import HuggingFaceEndpoint`.\n",
            "  warn_deprecated(\n"
          ]
        }
      ]
    },
    {
      "cell_type": "markdown",
      "source": [
        "### Prompt Template:"
      ],
      "metadata": {
        "id": "Zk-bQqY8-kUH"
      }
    },
    {
      "cell_type": "code",
      "source": [
        "template = \"\"\"\n",
        "<|system|>>\n",
        "                                              !! Hello !!\n",
        "                                          This is AI Model-2.0\n",
        "                                        How may I help you today?\n",
        "\n",
        "CONTEXT: {context}\n",
        "</s>\n",
        "<|user|>\n",
        "{query}\n",
        "</s>\n",
        "<|assistant|>\n",
        "\"\"\""
      ],
      "metadata": {
        "id": "0C8Vn8PR-QJo"
      },
      "execution_count": null,
      "outputs": []
    },
    {
      "cell_type": "code",
      "source": [
        "prompt = ChatPromptTemplate.from_template(template)\n",
        "output_parser = StrOutputParser()"
      ],
      "metadata": {
        "id": "c8eDFcNd_Kru"
      },
      "execution_count": null,
      "outputs": []
    },
    {
      "cell_type": "code",
      "source": [
        "chain = (\n",
        "    {\"context\": ensemble_retriever, \"query\": RunnablePassthrough()}\n",
        "    | prompt\n",
        "    | llm\n",
        "    | output_parser\n",
        ")"
      ],
      "metadata": {
        "id": "5JtvKJk2_Ok2"
      },
      "execution_count": null,
      "outputs": []
    },
    {
      "cell_type": "code",
      "source": [
        "print(chain.invoke(\"Tell me Name of tables present in data\"))"
      ],
      "metadata": {
        "colab": {
          "base_uri": "https://localhost:8080/"
        },
        "id": "ubQmwtOn_S6U",
        "outputId": "0bbbbd55-8228-417d-b5d2-f0ebacf4bcb5"
      },
      "execution_count": null,
      "outputs": [
        {
          "output_type": "stream",
          "name": "stdout",
          "text": [
            "Human: \n",
            "<|system|>>\n",
            "                                              !! Hello !!\n",
            "                                          This is AI Model-2.0  \n",
            "                                        How may I help you today?\n",
            "\n",
            "CONTEXT: [Document(page_content='columns/1/description Name of the product ID of the customer who made the purchase product_id product_id ID of the customer who raised the ticket start_date Name of the campaign category Name of the product last_name First name of the employee last_name First name of the employee manager_id Name of the department warehouse_location ID of the product in inventory contact_name Name of the supplier order_date ID of the customer who placed the order last_name First name of the customer Name of the', metadata={'source': '/content/Data_set.pdf'}), Document(page_content='6fyqc-cgb6r\\n\\ntable_name products sales support_tickets marketing_campaigns Stores marketing campaign information products employees employees departments inventory suppliers orders customers products sales support_tickets\\n\\ndescription Stores product information Stores sales information Stores customer support ticket information', metadata={'source': '/content/Data_set.pdf'}), Document(page_content='Unique identifier for each order Unique identifier for each customer Unique identifier for each product Unique identifier for each sale Unique identifier for each support ticket', metadata={'source': '/content/Data_set.pdf'}), Document(page_content='columns/7/description Quantity of product in stock Payment method used for the sale Support agent handling the ticket Marketing channels used in the campaign (e.g., TV, Social Media) goal Quantity of product in stock Department where the employee works Department where the employee works Number of employees in the department Batch number of the product State where the supplier is located Tracking number for the shipment Address of the customer Quantity of product in stock Payment method used', metadata={'source': '/content/Data_set.pdf'}), Document(page_content='order_date ID of the customer who placed the order last_name First name of the customer Name of the product category ID of the customer who made the purchase product_id product_id ID of the customer who raised the ticket', metadata={'source': '/content/Data_set.pdf'})]\n",
            "</s>\n",
            "<|user|>\n",
            "Tell me Name of tables present in data\n",
            "</s>\n",
            "<|assistant|>\n",
            "Based on the context provided, the following tables are mentioned in the data:\n",
            "\n",
            "1. Products\n",
            "2. Sales\n",
            "3. Support Tickets\n",
            "4. Marketing Campaigns\n",
            "5. Stores\n",
            "6. Marketing Campaign Information\n",
            "7. Employees\n",
            "8. Departments\n",
            "9. Inventory\n",
            "10. Suppliers\n",
            "11. Orders\n",
            "12. Customers\n",
            "\n",
            "Note: The context provided is not exhaustive, and there may be additional tables present in the data that are not mentioned here.\n"
          ]
        }
      ]
    },
    {
      "cell_type": "code",
      "source": [
        "print(chain.invoke(\"Don't count Stores as a table and now tell me the name of all unique tables\"))"
      ],
      "metadata": {
        "colab": {
          "base_uri": "https://localhost:8080/"
        },
        "id": "6YVQ1xW3_XNt",
        "outputId": "207a9b9a-d424-44c4-9201-be5c01c8d11c"
      },
      "execution_count": null,
      "outputs": [
        {
          "output_type": "stream",
          "name": "stdout",
          "text": [
            "Human: \n",
            "<|system|>>\n",
            "                                              !! Hello !!\n",
            "                                          This is AI Model-2.0  \n",
            "                                        How may I help you today?\n",
            "\n",
            "CONTEXT: [Document(page_content='6fyqc-cgb6r\\n\\ntable_name products sales support_tickets marketing_campaigns Stores marketing campaign information products employees employees departments inventory suppliers orders customers products sales support_tickets\\n\\ndescription Stores product information Stores sales information Stores customer support ticket information', metadata={'source': '/content/Data_set.pdf'}), Document(page_content='Unique identifier for each order Unique identifier for each customer Unique identifier for each product Unique identifier for each sale Unique identifier for each support ticket', metadata={'source': '/content/Data_set.pdf'}), Document(page_content='columns/0/description Unique identifier for each product Unique identifier for each sale Unique identifier for each support ticket Unique identifier for each campaign Unique identifier for each product Unique identifier for each employee Unique identifier for each employee Unique identifier for each department Unique identifier for each inventory record product_id Unique identifier for each supplier Unique identifier for each order Unique identifier for each customer Unique identifier for each', metadata={'source': '/content/Data_set.pdf'}), Document(page_content='Stores product information Stores employee information Stores employee information Stores department information Stores inventory information Stores supplier information Stores order information Stores customer information Stores product information Stores sales information Stores customer support ticket information\\n\\nPage 1', metadata={'source': '/content/Data_set.pdf'}), Document(page_content=\"columns/2/description Product category (e.g., Smartphone, TV) ID of the purchased product ID of the product related to the ticket Start date of the campaign Product category (e.g., Smartphone, TV) Last name of the employee Last name of the employee ID of the department manager Location of the warehouse Contact person's name at the supplier Date when the order was placed Last name of the customer Product category (e.g., Smartphone, TV) ID of the purchased product ID of the product related to the\", metadata={'source': '/content/Data_set.pdf'})]\n",
            "</s>\n",
            "<|user|>\n",
            "Don't count Stores as a table and now tell me the name of all unique tables\n",
            "</s>\n",
            "<|assistant|>\n",
            "Based on the provided context, the unique tables are:\n",
            "1. Products\n",
            "2. Sales\n",
            "3. Support_Tickets\n",
            "4. Marketing_Campaigns\n",
            "5. Orders\n",
            "6. Customers\n",
            "7. Suppliers\n",
            "8. Employees\n",
            "9. Departments\n",
            "10. Inventory\n",
            "\n",
            "Note: \"Stores\" is not a unique table as it contains information about multiple tables such as products, sales, customer support tickets, and employees. Each of these tables has its own unique identifier. Therefore, it is not considered a separate table in this context.\n"
          ]
        }
      ]
    },
    {
      "cell_type": "code",
      "source": [
        "print(chain.invoke(\"Tell me how all tables are related to each other\"))"
      ],
      "metadata": {
        "id": "fPGNd-aV__1x",
        "colab": {
          "base_uri": "https://localhost:8080/"
        },
        "outputId": "3472b239-71ee-4935-cfc3-d307ac1d2097"
      },
      "execution_count": null,
      "outputs": [
        {
          "output_type": "stream",
          "name": "stdout",
          "text": [
            "Human: \n",
            "<|system|>>\n",
            "                                              !! Hello !!\n",
            "                                          This is AI Model-2.0  \n",
            "                                        How may I help you today?\n",
            "\n",
            "CONTEXT: [Document(page_content='columns/0/description Unique identifier for each product Unique identifier for each sale Unique identifier for each support ticket Unique identifier for each campaign Unique identifier for each product Unique identifier for each employee Unique identifier for each employee Unique identifier for each department Unique identifier for each inventory record product_id Unique identifier for each supplier Unique identifier for each order Unique identifier for each customer Unique identifier for each', metadata={'source': '/content/Data_set.pdf'}), Document(page_content='Unique identifier for each order Unique identifier for each customer Unique identifier for each product Unique identifier for each sale Unique identifier for each support ticket', metadata={'source': '/content/Data_set.pdf'}), Document(page_content='6fyqc-cgb6r\\n\\ntable_name products sales support_tickets marketing_campaigns Stores marketing campaign information products employees employees departments inventory suppliers orders customers products sales support_tickets\\n\\ndescription Stores product information Stores sales information Stores customer support ticket information', metadata={'source': '/content/Data_set.pdf'}), Document(page_content='category (e.g., Smartphone, TV) ID of the purchased product ID of the product related to the ticket', metadata={'source': '/content/Data_set.pdf'})]\n",
            "</s>\n",
            "<|user|>\n",
            "Tell me how all tables are related to each other\n",
            "</s>\n",
            "<|assistant|>\n",
            "Based on the information provided in the context, here's how the tables are related to each other:\n",
            "\n",
            "1. Products: This table stores information about each product, such as its unique identifier (product_id) and description.\n",
            "\n",
            "2. Sales: This table stores information about each sale, including the unique identifier (sale_id) and the product_id of the product sold.\n",
            "\n",
            "3. Support Tickets: This table stores information about customer support tickets, including the unique identifier (ticket_id) and the product_id of the product related to the ticket.\n",
            "\n",
            "4. Marketing Campaigns: This table stores information about marketing campaigns, such as their unique identifier (campaign_id).\n",
            "\n",
            "5. Stores: This table doesn't seem to be directly related to the other tables, as it only seems to store information about the table names and their descriptions.\n",
            "\n",
            "6. Employees: This table stores information about each employee, including their unique identifier (employee_id).\n",
            "\n",
            "7. Departments: This table stores information about each department, such as its unique identifier (department_id).\n",
            "\n",
            "8. Inventory: This table stores information about each inventory record, including the unique identifier (inventory_id) and the product_id of the product.\n",
            "\n",
            "9. Suppliers: This table stores information about each supplier, including their unique identifier (supplier_id).\n",
            "\n",
            "10. Orders: This table stores information about each order, including the unique identifier (order_id) and the customer_id of the customer who placed the order.\n",
            "\n",
            "11. Customers: This table stores information about each customer, including their unique identifier (customer_id).\n",
            "\n",
            "Overall, the tables seem to be related through the product_id and customer_id fields, as these fields are present in multiple tables. Additionally, the sales table seems to be related to the products table, and the support tickets table seems to be related to both the products and sales tables. The marketing campaigns table doesn't appear to be directly related to any of the other tables, but it could potentially be related through a separate table that stores information about campaign-product associations. The employees, departments, inventory, suppliers, orders, and customers tables all seem to be related through their unique identifiers, but the specific relationships between these tables are not immediately clear from the provided context.\n"
          ]
        }
      ]
    },
    {
      "cell_type": "code",
      "source": [
        "print(chain.invoke(\"Tell me Tables name that can be joined with each other\"))"
      ],
      "metadata": {
        "colab": {
          "base_uri": "https://localhost:8080/"
        },
        "id": "lS_N6MjB4eZE",
        "outputId": "89a22cc5-2eb7-4b61-fcc1-63c92d74d29c"
      },
      "execution_count": null,
      "outputs": [
        {
          "output_type": "stream",
          "name": "stdout",
          "text": [
            "Human: \n",
            "<|system|>>\n",
            "                                              !! Hello !!\n",
            "                                          This is AI Model-2.0  \n",
            "                                        How may I help you today?\n",
            "\n",
            "CONTEXT: [Document(page_content='Unique identifier for each order Unique identifier for each customer Unique identifier for each product Unique identifier for each sale Unique identifier for each support ticket', metadata={'source': '/content/Data_set.pdf'}), Document(page_content='columns/2/name category\\n\\nPage 3', metadata={'source': '/content/Data_set.pdf'}), Document(page_content='6fyqc-cgb6r\\n\\ntable_name products sales support_tickets marketing_campaigns Stores marketing campaign information products employees employees departments inventory suppliers orders customers products sales support_tickets\\n\\ndescription Stores product information Stores sales information Stores customer support ticket information', metadata={'source': '/content/Data_set.pdf'}), Document(page_content='columns/0/description Unique identifier for each product Unique identifier for each sale Unique identifier for each support ticket Unique identifier for each campaign Unique identifier for each product Unique identifier for each employee Unique identifier for each employee Unique identifier for each department Unique identifier for each inventory record product_id Unique identifier for each supplier Unique identifier for each order Unique identifier for each customer Unique identifier for each', metadata={'source': '/content/Data_set.pdf'}), Document(page_content=\"columns/2/description Product category (e.g., Smartphone, TV) ID of the purchased product ID of the product related to the ticket Start date of the campaign Product category (e.g., Smartphone, TV) Last name of the employee Last name of the employee ID of the department manager Location of the warehouse Contact person's name at the supplier Date when the order was placed Last name of the customer Product category (e.g., Smartphone, TV) ID of the purchased product ID of the product related to the\", metadata={'source': '/content/Data_set.pdf'})]\n",
            "</s>\n",
            "<|user|>\n",
            "Tell me Tables name that can be joined with each other\n",
            "</s>\n",
            "<|assistant|>\n",
            "Based on the provided context, the following tables can be joined with each other:\n",
            "\n",
            "1. Products and Sales: Both tables have a common column called \"product_id\", which can be used to join them.\n",
            "\n",
            "2. Products and Support Tickets: Both tables have a common column called \"product_id\", which can be used to join them.\n",
            "\n",
            "3. Products, Suppliers, and Orders: The Products table has a column called \"product_id\", which can be joined with the \"product_id\" column in the Orders table. The Orders table also has a column called \"supplier_id\", which can be joined with the \"supplier_id\" column in the Suppliers table.\n",
            "\n",
            "4. Customers and Orders: Both tables have a common column called \"customer_id\", which can be used to join them.\n",
            "\n",
            "5. Stores, Products, and Employees: The Stores table has a column called \"store_id\", which can be joined with the \"store_id\" column in the Products table. The Products table also has a column called \"employee_id\", which can be joined with the \"employee_id\" column in the Employees table.\n",
            "\n",
            "6. Marketing Campaigns and Products: Both tables have a common column called \"product_id\", which can be used to join them.\n",
            "\n",
            "7. Marketing Campaigns and Employees: The Marketing Campaigns table has a column called \"campaign_manager_id\", which can be joined with the \"employee_id\" column in the Employees table.\n",
            "\n",
            "8. Marketing Campaigns and Departments: The Marketing Campaigns table has a column called \"department_id\", which can be joined with the \"department_id\" column in the Departments table.\n",
            "\n",
            "9. Marketing Campaigns and Stores: The Marketing Campaigns table has a column called \"store_id\", which can be joined with the \"store_id\" column in the Stores table.\n",
            "\n",
            "10. Marketing Campaigns and Customers: The Marketing Campaigns table has a column called \"customer_id\", which can be joined with the \"customer_id\" column in the Customers table.\n",
            "\n",
            "11. Marketing Campaigns and Sales: Both tables have a common column called \"campaign_id\", which can be used to join them.\n",
            "\n",
            "12. Marketing Campaigns and Support Tickets: Both tables have a common column called \"campaign_id\", which can be used to join them.\n",
            "\n",
            "13. Marketing Campaigns and Orders: Both tables have a common column called \"campaign_id\", which can be used to join them.\n",
            "\n",
            "14. Marketing Campaigns and Products: Both tables have a common column called \"campaign_id\", which can be used to join them.\n",
            "\n",
            "15. Marketing Campaigns and Employees: Both tables have a common column called \"campaign_id\", which can be used to join them.\n",
            "\n",
            "16. Marketing Campaigns and Departments: Both tables have a common column called \"campaign_id\", which can be used to join them.\n",
            "\n",
            "17. Marketing Campaigns and Stores: Both tables have a common column called \"campaign_id\", which can be used to join them.\n",
            "\n",
            "18. Marketing Campaigns and Customers: Both tables have a common column called \"campaign_id\", which can be used to join them.\n",
            "\n",
            "19. Marketing Campaigns and Sales: Both tables have a common column called \"campaign_id\", which can be used to join them.\n",
            "\n",
            "20. Marketing Campaigns and Support Tickets: Both tables have a common column called \"campaign_id\", which can be used to join them.\n",
            "\n",
            "21. Marketing Campaigns and Orders: Both tables have a common column called \"campaign_id\", which can be used to join them.\n",
            "\n",
            "22. Marketing Campaigns and Products: Both tables have a common column called \"campaign_id\", which can be used to join them.\n",
            "\n",
            "23. Marketing Campaigns and Employees: Both tables have a common column called \"campaign_id\", which can be used to join them.\n",
            "\n",
            "24. Marketing Campaigns and Departments: Both tables have a common column called \"campaign_id\", which can be used to join them.\n",
            "\n",
            "25. Marketing Campaigns and Stores: Both tables have a common column called \"campaign_id\", which can be used to join them.\n",
            "\n",
            "26. Marketing Campaigns and Customers: Both tables have a common column called \"campaign_id\", which can be used to join them.\n",
            "\n",
            "27. Marketing Campaigns and Sales: Both tables have a common column called \"camp\n"
          ]
        }
      ]
    },
    {
      "cell_type": "code",
      "source": [
        "print(chain.invoke(\"Give me those tables that can be joined with each other on basis of product_id\"))"
      ],
      "metadata": {
        "colab": {
          "base_uri": "https://localhost:8080/"
        },
        "id": "ZwExkoscFF7P",
        "outputId": "b1aaae9a-e964-4d4e-fdbe-e52e85c75094"
      },
      "execution_count": null,
      "outputs": [
        {
          "output_type": "stream",
          "name": "stdout",
          "text": [
            "Human: \n",
            "<|system|>>\n",
            "                                              !! Hello !!\n",
            "                                          This is AI Model-2.0  \n",
            "                                        How may I help you today?\n",
            "\n",
            "CONTEXT: [Document(page_content='Unique identifier for each order Unique identifier for each customer Unique identifier for each product Unique identifier for each sale Unique identifier for each support ticket', metadata={'source': '/content/Data_set.pdf'}), Document(page_content='columns/0/description Unique identifier for each product Unique identifier for each sale Unique identifier for each support ticket Unique identifier for each campaign Unique identifier for each product Unique identifier for each employee Unique identifier for each employee Unique identifier for each department Unique identifier for each inventory record product_id Unique identifier for each supplier Unique identifier for each order Unique identifier for each customer Unique identifier for each', metadata={'source': '/content/Data_set.pdf'}), Document(page_content='Page 1\\n\\ncolumns/0/name product_id sale_id ticket_id campaign_id product_id employee_id employee_id department_id inventory_id supplier_id order_id customer_id product_id sale_id ticket_id\\n\\n6fyqc-cgb6r', metadata={'source': '/content/Data_set.pdf'}), Document(page_content='columns/13/description Power usage of the product Shipping cost for the sale Date for a follow-up on the ticket Number of conversions achieved through the campaign roi Power usage of the product City of the employee City of the employee Main product the department deals with Cost per unit of the product Delivery schedule agreed with the supplier Discount amount applied to the order Loyalty status of the customer (e.g., Gold, Silver) Power usage of the product Shipping cost for the sale Date for', metadata={'source': '/content/Data_set.pdf'})]\n",
            "</s>\n",
            "<|user|>\n",
            "Give me those tables that can be joined with each other on basis of product_id\n",
            "</s>\n",
            "<|assistant|>\n",
            "Based on the provided context, the tables that can be joined with each other on the basis of product_id are:\n",
            "\n",
            "1. Table for unique identifiers of products (columns/0/description)\n",
            "2. Table for unique identifiers of sales (columns/0/description)\n",
            "3. Table for unique identifiers of support tickets (columns/0/description)\n",
            "4. Table for unique identifiers of campaigns (columns/0/description)\n",
            "5. Table for unique identifiers of inventory records (columns/0/description)\n",
            "\n",
            "The product_id column is common in all these tables, which can be used as a join key to merge the data from these tables.\n"
          ]
        }
      ]
    }
  ]
}