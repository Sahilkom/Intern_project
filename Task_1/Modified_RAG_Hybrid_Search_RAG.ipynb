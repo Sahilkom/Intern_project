{
  "nbformat": 4,
  "nbformat_minor": 0,
  "metadata": {
    "colab": {
      "provenance": [],
      "gpuType": "T4",
      "include_colab_link": true
    },
    "kernelspec": {
      "name": "python3",
      "display_name": "Python 3"
    },
    "language_info": {
      "name": "python"
    },
    "accelerator": "GPU"
  },
  "cells": [
    {
      "cell_type": "markdown",
      "metadata": {
        "id": "view-in-github",
        "colab_type": "text"
      },
      "source": [
        "<a href=\"https://colab.research.google.com/github/Sahilkom/Intern_project/blob/main/Task_1/Modified_RAG_Hybrid_Search_RAG.ipynb\" target=\"_parent\"><img src=\"https://colab.research.google.com/assets/colab-badge.svg\" alt=\"Open In Colab\"/></a>"
      ]
    },
    {
      "cell_type": "markdown",
      "source": [
        "# Installing and Importing Required Dependencies"
      ],
      "metadata": {
        "id": "kRCHCRU693Dj"
      }
    },
    {
      "cell_type": "code",
      "execution_count": null,
      "metadata": {
        "id": "I7xhZfK_6T2G"
      },
      "outputs": [],
      "source": [
        "!pip install langchain rank_bm25 pypdf unstructured chromadb\n",
        "!pip install unstructured['pdf'] unstructured\n",
        "!apt-get install poppler-utils\n",
        "!apt-get install -y tesseract-ocr\n",
        "!apt-get install -y libtesseract-dev\n",
        "!pip install pytesseract\n",
        "!pip install fpdf\n",
        "!pip install langchain_community"
      ]
    },
    {
      "cell_type": "code",
      "source": [
        "from langchain.document_loaders import UnstructuredPDFLoader\n",
        "from langchain.text_splitter import RecursiveCharacterTextSplitter\n",
        "from langchain.vectorstores import Chroma\n",
        "\n",
        "from langchain_core.prompts import ChatPromptTemplate\n",
        "from langchain_core.output_parsers import StrOutputParser\n",
        "from langchain_core.runnables import RunnablePassthrough\n",
        "\n",
        "from langchain.embeddings import HuggingFaceInferenceAPIEmbeddings\n",
        "from langchain.llms import HuggingFaceHub\n",
        "\n",
        "from langchain.retrievers import BM25Retriever, EnsembleRetriever\n",
        "\n",
        "from fpdf import FPDF\n",
        "\n",
        "import os"
      ],
      "metadata": {
        "id": "hJ7NC1yB6jDX"
      },
      "execution_count": 2,
      "outputs": []
    },
    {
      "cell_type": "markdown",
      "source": [
        "# Pre-Processing Data"
      ],
      "metadata": {
        "id": "gJzfez4i-Iao"
      }
    },
    {
      "cell_type": "code",
      "source": [
        "import json\n",
        "def load_data():\n",
        "    with open(\"/content/all_tables_data.json\", 'r') as f:\n",
        "        return json.load(f)\n",
        "\n",
        "data=load_data()"
      ],
      "metadata": {
        "id": "E4DPfCLzZNy2"
      },
      "execution_count": 4,
      "outputs": []
    },
    {
      "cell_type": "code",
      "source": [
        "# create chunks\n",
        "data_set = []\n",
        "for table in data['tables']:\n",
        "    table_info=[]\n",
        "    table_name=f\"Table name: {table['table_name']}\"\n",
        "    table_description=f\"Description: {table['description']}\"\n",
        "    table_info.append(table_name)\n",
        "    table_info.append(table_description)\n",
        "    title=\"Column name   Description\"\n",
        "    table_info.append(title)\n",
        "    index=1\n",
        "    for col in table['columns']:\n",
        "        col_info=f\" {col['name']}  ({col['description']})\"\n",
        "        col_info=str(index)+\". \"+col_info\n",
        "        table_info.append(col_info)\n",
        "        index+=1\n",
        "    if data_set.count(table_info) <= 0:\n",
        "        data_set.append(table_info)\n"
      ],
      "metadata": {
        "id": "qYZ1j1Ns73mU"
      },
      "execution_count": 5,
      "outputs": []
    },
    {
      "cell_type": "code",
      "source": [
        "for chunk in data_set:\n",
        "    for info in chunk:\n",
        "        print(info+\"\\n\")\n",
        "    print(\"\\n\")"
      ],
      "metadata": {
        "id": "9ixUhhVYyHTd",
        "colab": {
          "base_uri": "https://localhost:8080/"
        },
        "outputId": "53895e93-6d18-4555-95cc-2967118e8e8c"
      },
      "execution_count": 30,
      "outputs": [
        {
          "output_type": "stream",
          "name": "stdout",
          "text": [
            "Table name: products\n",
            "\n",
            "Description: Stores product information\n",
            "\n",
            "Column name   Description\n",
            "\n",
            "1.  product_code  (ID of the purchased item)\n",
            "\n",
            "2.  product_name  (Name of the product)\n",
            "\n",
            "3.  category  (Product category (e.g., Smartphone, TV))\n",
            "\n",
            "4.  launch_date  (Launch date of the product)\n",
            "\n",
            "5.  price  (Price of the product)\n",
            "\n",
            "6.  manufacturer  (Manufacturer of the product)\n",
            "\n",
            "7.  warranty_period  (Warranty period of the product)\n",
            "\n",
            "8.  stock_quantity  (Quantity of product in stock)\n",
            "\n",
            "9.  rating  (Customer rating of the product)\n",
            "\n",
            "10.  dimensions  (Dimensions of the product)\n",
            "\n",
            "11.  weight  (Weight of the product)\n",
            "\n",
            "12.  color  (Color of the product)\n",
            "\n",
            "13.  material  (Material of the product)\n",
            "\n",
            "14.  power_usage  (Power usage of the product)\n",
            "\n",
            "15.  model_number  (Model number of the product)\n",
            "\n",
            "\n",
            "\n",
            "Table name: sales\n",
            "\n",
            "Description: Stores sales information\n",
            "\n",
            "Column name   Description\n",
            "\n",
            "1.  sale_id  (Unique identifier for each sale)\n",
            "\n",
            "2.  buyer_id  (ID of the customer who made the purchase)\n",
            "\n",
            "3.  transaction_product_id  (ID of the purchased item)\n",
            "\n",
            "4.  sale_date  (Date of the sale)\n",
            "\n",
            "5.  quantity  (Quantity of products sold)\n",
            "\n",
            "6.  total_amount  (Total amount for the sale)\n",
            "\n",
            "7.  sales_channel  (Channel through which the sale was made (e.g., Online, In-store))\n",
            "\n",
            "8.  payment_method  (Payment method used for the sale)\n",
            "\n",
            "9.  discount  (Discount applied to the sale)\n",
            "\n",
            "10.  sales_rep  (Sales representative handling the sale)\n",
            "\n",
            "11.  delivery_date  (Delivery date of the sold product)\n",
            "\n",
            "12.  delivery_status  (Delivery status of the sold product)\n",
            "\n",
            "13.  invoice_number  (Invoice number for the sale)\n",
            "\n",
            "14.  shipping_cost  (Shipping cost for the sale)\n",
            "\n",
            "15.  tax_amount  (Tax amount applied to the sale)\n",
            "\n",
            "\n",
            "\n",
            "Table name: support_tickets\n",
            "\n",
            "Description: Stores customer support ticket information\n",
            "\n",
            "Column name   Description\n",
            "\n",
            "1.  ticket_id  (Unique identifier for each support ticket)\n",
            "\n",
            "2.  client_ticket_id  (ID of the customer who made the purchase)\n",
            "\n",
            "3.  product_issue_id  (ID of the purchased item)\n",
            "\n",
            "4.  issue_date  (Date the issue was reported)\n",
            "\n",
            "5.  issue_type  (Type of issue (e.g., Hardware, Software))\n",
            "\n",
            "6.  resolution_date  (Date the issue was resolved)\n",
            "\n",
            "7.  status  (Status of the ticket (e.g., Open, Closed))\n",
            "\n",
            "8.  support_agent  (Support agent handling the ticket)\n",
            "\n",
            "9.  priority  (Priority level of the ticket)\n",
            "\n",
            "10.  response_time  (Time taken to respond to the ticket)\n",
            "\n",
            "11.  issue_description  (Description of the issue)\n",
            "\n",
            "12.  resolution_details  (Details of the resolution)\n",
            "\n",
            "13.  feedback_score  (Feedback score given by the customer)\n",
            "\n",
            "14.  follow_up_date  (Date for a follow-up on the ticket)\n",
            "\n",
            "15.  category  (Category of the issue)\n",
            "\n",
            "\n",
            "\n",
            "Table name: marketing_campaigns\n",
            "\n",
            "Description: Stores marketing campaign information\n",
            "\n",
            "Column name   Description\n",
            "\n",
            "1.  campaign_id  (Unique identifier for each campaign)\n",
            "\n",
            "2.  campaign_name  (Name of the campaign)\n",
            "\n",
            "3.  start_date  (Start date of the campaign)\n",
            "\n",
            "4.  end_date  (End date of the campaign)\n",
            "\n",
            "5.  budget  (Budget allocated for the campaign)\n",
            "\n",
            "6.  target_audience  (Target audience for the campaign)\n",
            "\n",
            "7.  advertised_product_id  (ID of the purchased item)\n",
            "\n",
            "8.  channels  (Marketing channels used in the campaign (e.g., TV, Social Media))\n",
            "\n",
            "9.  goal  (Primary goal of the campaign (e.g., Brand Awareness, Lead Generation))\n",
            "\n",
            "10.  region  (Geographical region targeted by the campaign)\n",
            "\n",
            "11.  creative_idea  (Creative idea or theme of the campaign)\n",
            "\n",
            "12.  ad_spend  (Amount spent on advertising during the campaign)\n",
            "\n",
            "13.  leads_generated  (Number of leads generated through the campaign)\n",
            "\n",
            "14.  conversions  (Number of conversions achieved through the campaign)\n",
            "\n",
            "15.  roi  (Return on investment for the campaign)\n",
            "\n",
            "\n",
            "\n",
            "Table name: employees\n",
            "\n",
            "Description: Stores employee information\n",
            "\n",
            "Column name   Description\n",
            "\n",
            "1.  employee_id  (Unique identifier for each employee)\n",
            "\n",
            "2.  first_name  (First name of the employee)\n",
            "\n",
            "3.  last_name  (Last name of the employee)\n",
            "\n",
            "4.  email  (Email address of the employee)\n",
            "\n",
            "5.  staff_contact  (contact number for audio communination)\n",
            "\n",
            "6.  hire_date  (Date the employee was hired)\n",
            "\n",
            "7.  job_title  (Job title of the employee)\n",
            "\n",
            "8.  department  (Department where the employee works)\n",
            "\n",
            "9.  manager_id  (ID of the employee's manager)\n",
            "\n",
            "10.  salary  (Annual salary of the employee)\n",
            "\n",
            "11.  bonus  (Annual bonus of the employee)\n",
            "\n",
            "12.  commission_pct  (Commission percentage of the employee)\n",
            "\n",
            "13.  staff_residence  (Physical location of agent)\n",
            "\n",
            "14.  city  (City of the employee)\n",
            "\n",
            "15.  state  (State of the employee)\n",
            "\n",
            "\n",
            "\n",
            "Table name: departments\n",
            "\n",
            "Description: Stores department information\n",
            "\n",
            "Column name   Description\n",
            "\n",
            "1.  department_id  (Unique identifier for each department)\n",
            "\n",
            "2.  department_name  (Name of the department)\n",
            "\n",
            "3.  manager_id  (ID of the department manager)\n",
            "\n",
            "4.  location  (Location of the department)\n",
            "\n",
            "5.  budget  (Annual budget of the department)\n",
            "\n",
            "6.  department_telephone  (contact number for audio communination)\n",
            "\n",
            "7.  email  (Contact email for the department)\n",
            "\n",
            "8.  number_of_employees  (Number of employees in the department)\n",
            "\n",
            "9.  established_date  (Date the department was established)\n",
            "\n",
            "10.  department_goal  (Primary goal of the department)\n",
            "\n",
            "11.  performance_rating  (Performance rating of the department)\n",
            "\n",
            "12.  primary_function  (Primary function of the department)\n",
            "\n",
            "13.  subsidiary  (Subsidiary under which the department operates)\n",
            "\n",
            "14.  main_product  (Main product the department deals with)\n",
            "\n",
            "15.  strategy  (Strategic goals of the department)\n",
            "\n",
            "\n",
            "\n",
            "Table name: inventory\n",
            "\n",
            "Description: Stores inventory information\n",
            "\n",
            "Column name   Description\n",
            "\n",
            "1.  inventory_id  (Unique identifier for each inventory record)\n",
            "\n",
            "2.  inventory_item_id  (ID of the purchased item)\n",
            "\n",
            "3.  warehouse_location  (Location of the warehouse)\n",
            "\n",
            "4.  stock_quantity  (Quantity of product in stock)\n",
            "\n",
            "5.  reorder_level  (Stock level at which reorder is needed)\n",
            "\n",
            "6.  reorder_quantity  (Quantity to reorder when stock is low)\n",
            "\n",
            "7.  supplier_id  (ID of the product supplier)\n",
            "\n",
            "8.  batch_number  (Batch number of the product)\n",
            "\n",
            "9.  expiry_date  (Expiry date of the product batch)\n",
            "\n",
            "10.  manufacture_date  (Manufacture date of the product batch)\n",
            "\n",
            "11.  storage_conditions  (Storage conditions for the product)\n",
            "\n",
            "12.  last_restock_date  (Date when the product was last restocked)\n",
            "\n",
            "13.  lead_time  (Lead time for product replenishment)\n",
            "\n",
            "14.  cost_per_unit  (Cost per unit of the product)\n",
            "\n",
            "15.  total_value  (Total value of the inventory)\n",
            "\n",
            "\n",
            "\n",
            "Table name: suppliers\n",
            "\n",
            "Description: Stores supplier information\n",
            "\n",
            "Column name   Description\n",
            "\n",
            "1.  supplier_id  (Unique identifier for each supplier)\n",
            "\n",
            "2.  supplier_name  (Name of the supplier)\n",
            "\n",
            "3.  contact_name  (Contact person's name at the supplier)\n",
            "\n",
            "4.  contact_email  (Contact person's email at the supplier)\n",
            "\n",
            "5.  contact_phone  (Contact person's phone number at the supplier)\n",
            "\n",
            "6.  supplier_office_address  (Physical location of agent)\n",
            "\n",
            "7.  city  (City where the supplier is located)\n",
            "\n",
            "8.  state  (State where the supplier is located)\n",
            "\n",
            "9.  zip_code  (ZIP code of the supplier's location)\n",
            "\n",
            "10.  country  (Country where the supplier is located)\n",
            "\n",
            "11.  products_supplied  (Products supplied by the supplier)\n",
            "\n",
            "12.  rating  (Rating of the supplier)\n",
            "\n",
            "13.  payment_terms  (Payment terms agreed with the supplier)\n",
            "\n",
            "14.  delivery_schedule  (Delivery schedule agreed with the supplier)\n",
            "\n",
            "15.  last_order_date  (Date when the last order was placed with the supplier)\n",
            "\n",
            "\n",
            "\n",
            "Table name: orders\n",
            "\n",
            "Description: Stores order information\n",
            "\n",
            "Column name   Description\n",
            "\n",
            "1.  order_id  (Unique identifier for each order)\n",
            "\n",
            "2.  purchaser_order_id  (ID of the customer who made the purchase)\n",
            "\n",
            "3.  order_date  (Date when the order was placed)\n",
            "\n",
            "4.  order_status  (Current status of the order (e.g., Processing, Shipped, Delivered))\n",
            "\n",
            "5.  shipping_date  (Date when the order was shipped)\n",
            "\n",
            "6.  delivery_date  (Date when the order was delivered)\n",
            "\n",
            "7.  shipping_method  (Shipping method used for the order)\n",
            "\n",
            "8.  tracking_number  (Tracking number for the shipment)\n",
            "\n",
            "9.  billing_address  (Billing address for the order)\n",
            "\n",
            "10.  shipping_address  (Shipping address for the order)\n",
            "\n",
            "11.  payment_method  (Payment method used for the order)\n",
            "\n",
            "12.  total_amount  (Total amount for the order)\n",
            "\n",
            "13.  tax_amount  (Tax amount for the order)\n",
            "\n",
            "14.  discount_amount  (Discount amount applied to the order)\n",
            "\n",
            "15.  currency  (Currency in which the order was placed)\n",
            "\n",
            "\n",
            "\n",
            "Table name: customers\n",
            "\n",
            "Description: Stores customer information\n",
            "\n",
            "Column name   Description\n",
            "\n",
            "1.  client_id  (ID of the customer who made the purchase)\n",
            "\n",
            "2.  first_name  (First name of the customer)\n",
            "\n",
            "3.  last_name  (Last name of the customer)\n",
            "\n",
            "4.  email  (Email address of the customer)\n",
            "\n",
            "5.  customer_contact_number  (contact number for audio communination)\n",
            "\n",
            "6.  registration_date  (Date the customer registered)\n",
            "\n",
            "7.  country  (Country of the customer)\n",
            "\n",
            "8.  customer_home_address  (Physical location of agent)\n",
            "\n",
            "9.  city  (City of the customer)\n",
            "\n",
            "10.  state  (State of the customer)\n",
            "\n",
            "11.  zip_code  (ZIP code of the customer)\n",
            "\n",
            "12.  date_of_birth  (Date of birth of the customer)\n",
            "\n",
            "13.  gender  (Gender of the customer)\n",
            "\n",
            "14.  loyalty_status  (Loyalty status of the customer (e.g., Gold, Silver))\n",
            "\n",
            "15.  last_purchase_date  (Date of the last purchase made by the customer)\n",
            "\n",
            "\n",
            "\n"
          ]
        }
      ]
    },
    {
      "cell_type": "code",
      "source": [
        "pdf = FPDF()\n",
        "\n",
        "for table in data_set:\n",
        "  pdf.add_page()\n",
        "  for info in table:\n",
        "    pdf.set_font(\"Arial\", size = 10)\n",
        "    pdf.cell(2000, 10, txt = info, ln = 1, align = 'L')\n",
        "\n",
        "pdf.output(\"new_data.pdf\")"
      ],
      "metadata": {
        "colab": {
          "base_uri": "https://localhost:8080/",
          "height": 35
        },
        "id": "iyuYekvVvh5d",
        "outputId": "760de125-967c-4f81-d841-f740a4e44ec4"
      },
      "execution_count": 7,
      "outputs": [
        {
          "output_type": "execute_result",
          "data": {
            "text/plain": [
              "''"
            ],
            "application/vnd.google.colaboratory.intrinsic+json": {
              "type": "string"
            }
          },
          "metadata": {},
          "execution_count": 7
        }
      ]
    },
    {
      "cell_type": "markdown",
      "source": [
        "# Importing processed data in the form of Documnet"
      ],
      "metadata": {
        "id": "I8dO5iXf-XcH"
      }
    },
    {
      "cell_type": "code",
      "source": [
        "file_path = \"/content/new_data.pdf\"\n",
        "data_file = UnstructuredPDFLoader(file_path)\n",
        "docs = data_file.load()"
      ],
      "metadata": {
        "id": "yxSDAi5OAM1A",
        "colab": {
          "base_uri": "https://localhost:8080/"
        },
        "outputId": "61bb41f0-0377-4ddf-cd4f-803d2451993e"
      },
      "execution_count": 8,
      "outputs": [
        {
          "output_type": "stream",
          "name": "stderr",
          "text": [
            "[nltk_data] Downloading package punkt to /root/nltk_data...\n",
            "[nltk_data]   Unzipping tokenizers/punkt.zip.\n",
            "[nltk_data] Downloading package averaged_perceptron_tagger to\n",
            "[nltk_data]     /root/nltk_data...\n",
            "[nltk_data]   Unzipping taggers/averaged_perceptron_tagger.zip.\n"
          ]
        }
      ]
    },
    {
      "cell_type": "code",
      "source": [
        "print(docs[0].page_content)"
      ],
      "metadata": {
        "id": "UzmsWlxlAN7j",
        "colab": {
          "base_uri": "https://localhost:8080/"
        },
        "outputId": "b5192083-fb6e-4d30-8053-a4bf95b71dbd"
      },
      "execution_count": 31,
      "outputs": [
        {
          "output_type": "stream",
          "name": "stdout",
          "text": [
            "Table name: products\n",
            "\n",
            "Description: Stores product information\n",
            "\n",
            "Column name Description\n",
            "\n",
            "1. product_code (ID of the purchased item)\n",
            "\n",
            "2. product_name (Name of the product)\n",
            "\n",
            "3. category (Product category (e.g., Smartphone, TV))\n",
            "\n",
            "4. launch_date (Launch date of the product)\n",
            "\n",
            "5. price (Price of the product)\n",
            "\n",
            "6. manufacturer (Manufacturer of the product)\n",
            "\n",
            "7. warranty_period (Warranty period of the product)\n",
            "\n",
            "8. stock_quantity (Quantity of product in stock)\n",
            "\n",
            "9. rating (Customer rating of the product)\n",
            "\n",
            "10. dimensions (Dimensions of the product)\n",
            "\n",
            "11. weight (Weight of the product)\n",
            "\n",
            "12. color (Color of the product)\n",
            "\n",
            "13. material (Material of the product)\n",
            "\n",
            "14. power_usage (Power usage of the product)\n",
            "\n",
            "15. model_number (Model number of the product)\n",
            "\n",
            "Table name: sales\n",
            "\n",
            "Description: Stores sales information\n",
            "\n",
            "Column name Description\n",
            "\n",
            "1. sale_id (Unique identifier for each sale)\n",
            "\n",
            "2. buyer_id (ID of the customer who made the purchase)\n",
            "\n",
            "3. transaction_product_id (ID of the purchased item)\n",
            "\n",
            "4. sale_date (Date of the sale)\n",
            "\n",
            "5. quantity (Quantity of products sold)\n",
            "\n",
            "6. total_amount (Total amount for the sale)\n",
            "\n",
            "7. sales_channel (Channel through which the sale was made (e.g., Online, In-store))\n",
            "\n",
            "8. payment_method (Payment method used for the sale)\n",
            "\n",
            "9. discount (Discount applied to the sale)\n",
            "\n",
            "10. sales_rep (Sales representative handling the sale)\n",
            "\n",
            "11. delivery_date (Delivery date of the sold product)\n",
            "\n",
            "12. delivery_status (Delivery status of the sold product)\n",
            "\n",
            "13. invoice_number (Invoice number for the sale)\n",
            "\n",
            "14. shipping_cost (Shipping cost for the sale)\n",
            "\n",
            "15. tax_amount (Tax amount applied to the sale)\n",
            "\n",
            "Table name: support_tickets\n",
            "\n",
            "Description: Stores customer support ticket information\n",
            "\n",
            "Column name Description\n",
            "\n",
            "1. ticket_id (Unique identifier for each support ticket)\n",
            "\n",
            "2. client_ticket_id (ID of the customer who made the purchase)\n",
            "\n",
            "3. product_issue_id (ID of the purchased item)\n",
            "\n",
            "4. issue_date (Date the issue was reported)\n",
            "\n",
            "5. issue_type (Type of issue (e.g., Hardware, Software))\n",
            "\n",
            "6. resolution_date (Date the issue was resolved)\n",
            "\n",
            "7. status (Status of the ticket (e.g., Open, Closed))\n",
            "\n",
            "8. support_agent (Support agent handling the ticket)\n",
            "\n",
            "9. priority (Priority level of the ticket)\n",
            "\n",
            "10. response_time (Time taken to respond to the ticket)\n",
            "\n",
            "11. issue_description (Description of the issue)\n",
            "\n",
            "12. resolution_details (Details of the resolution)\n",
            "\n",
            "13. feedback_score (Feedback score given by the customer)\n",
            "\n",
            "14. follow_up_date (Date for a follow-up on the ticket)\n",
            "\n",
            "15. category (Category of the issue)\n",
            "\n",
            "Table name: marketing_campaigns\n",
            "\n",
            "Description: Stores marketing campaign information\n",
            "\n",
            "Column name Description\n",
            "\n",
            "1. campaign_id (Unique identifier for each campaign)\n",
            "\n",
            "2. campaign_name (Name of the campaign)\n",
            "\n",
            "3. start_date (Start date of the campaign)\n",
            "\n",
            "4. end_date (End date of the campaign)\n",
            "\n",
            "5. budget (Budget allocated for the campaign)\n",
            "\n",
            "6. target_audience (Target audience for the campaign)\n",
            "\n",
            "7. advertised_product_id (ID of the purchased item)\n",
            "\n",
            "8. channels (Marketing channels used in the campaign (e.g., TV, Social Media))\n",
            "\n",
            "9. goal (Primary goal of the campaign (e.g., Brand Awareness, Lead Generation))\n",
            "\n",
            "10. region (Geographical region targeted by the campaign)\n",
            "\n",
            "11. creative_idea (Creative idea or theme of the campaign)\n",
            "\n",
            "12. ad_spend (Amount spent on advertising during the campaign)\n",
            "\n",
            "13. leads_generated (Number of leads generated through the campaign)\n",
            "\n",
            "14. conversions (Number of conversions achieved through the campaign)\n",
            "\n",
            "15. roi (Return on investment for the campaign)\n",
            "\n",
            "Table name: employees\n",
            "\n",
            "Description: Stores employee information\n",
            "\n",
            "Column name Description\n",
            "\n",
            "1. employee_id (Unique identifier for each employee)\n",
            "\n",
            "2. first_name (First name of the employee)\n",
            "\n",
            "3. last_name (Last name of the employee)\n",
            "\n",
            "4. email (Email address of the employee)\n",
            "\n",
            "5. staff_contact (contact number for audio communination)\n",
            "\n",
            "6. hire_date (Date the employee was hired)\n",
            "\n",
            "7. job_title (Job title of the employee)\n",
            "\n",
            "8. department (Department where the employee works)\n",
            "\n",
            "9. manager_id (ID of the employee's manager)\n",
            "\n",
            "10. salary (Annual salary of the employee)\n",
            "\n",
            "11. bonus (Annual bonus of the employee)\n",
            "\n",
            "12. commission_pct (Commission percentage of the employee)\n",
            "\n",
            "13. staff_residence (Physical location of agent)\n",
            "\n",
            "14. city (City of the employee)\n",
            "\n",
            "15. state (State of the employee)\n",
            "\n",
            "Table name: departments\n",
            "\n",
            "Description: Stores department information\n",
            "\n",
            "Column name Description\n",
            "\n",
            "1. department_id (Unique identifier for each department)\n",
            "\n",
            "2. department_name (Name of the department)\n",
            "\n",
            "3. manager_id (ID of the department manager)\n",
            "\n",
            "4. location (Location of the department)\n",
            "\n",
            "5. budget (Annual budget of the department)\n",
            "\n",
            "6. department_telephone (contact number for audio communination)\n",
            "\n",
            "7. email (Contact email for the department)\n",
            "\n",
            "8. number_of_employees (Number of employees in the department)\n",
            "\n",
            "9. established_date (Date the department was established)\n",
            "\n",
            "10. department_goal (Primary goal of the department)\n",
            "\n",
            "11. performance_rating (Performance rating of the department)\n",
            "\n",
            "12. primary_function (Primary function of the department)\n",
            "\n",
            "13. subsidiary (Subsidiary under which the department operates)\n",
            "\n",
            "14. main_product (Main product the department deals with)\n",
            "\n",
            "15. strategy (Strategic goals of the department)\n",
            "\n",
            "Table name: inventory\n",
            "\n",
            "Description: Stores inventory information\n",
            "\n",
            "Column name Description\n",
            "\n",
            "1. inventory_id (Unique identifier for each inventory record)\n",
            "\n",
            "2. inventory_item_id (ID of the purchased item)\n",
            "\n",
            "3. warehouse_location (Location of the warehouse)\n",
            "\n",
            "4. stock_quantity (Quantity of product in stock)\n",
            "\n",
            "5. reorder_level (Stock level at which reorder is needed)\n",
            "\n",
            "6. reorder_quantity (Quantity to reorder when stock is low)\n",
            "\n",
            "7. supplier_id (ID of the product supplier)\n",
            "\n",
            "8. batch_number (Batch number of the product)\n",
            "\n",
            "9. expiry_date (Expiry date of the product batch)\n",
            "\n",
            "10. manufacture_date (Manufacture date of the product batch)\n",
            "\n",
            "11. storage_conditions (Storage conditions for the product)\n",
            "\n",
            "12. last_restock_date (Date when the product was last restocked)\n",
            "\n",
            "13. lead_time (Lead time for product replenishment)\n",
            "\n",
            "14. cost_per_unit (Cost per unit of the product)\n",
            "\n",
            "15. total_value (Total value of the inventory)\n",
            "\n",
            "Table name: suppliers\n",
            "\n",
            "Description: Stores supplier information\n",
            "\n",
            "Column name Description\n",
            "\n",
            "1. supplier_id (Unique identifier for each supplier)\n",
            "\n",
            "2. supplier_name (Name of the supplier)\n",
            "\n",
            "3. contact_name (Contact person's name at the supplier)\n",
            "\n",
            "4. contact_email (Contact person's email at the supplier)\n",
            "\n",
            "5. contact_phone (Contact person's phone number at the supplier)\n",
            "\n",
            "6. supplier_office_address (Physical location of agent)\n",
            "\n",
            "7. city (City where the supplier is located)\n",
            "\n",
            "8. state (State where the supplier is located)\n",
            "\n",
            "9. zip_code (ZIP code of the supplier's location)\n",
            "\n",
            "10. country (Country where the supplier is located)\n",
            "\n",
            "11. products_supplied (Products supplied by the supplier)\n",
            "\n",
            "12. rating (Rating of the supplier)\n",
            "\n",
            "13. payment_terms (Payment terms agreed with the supplier)\n",
            "\n",
            "14. delivery_schedule (Delivery schedule agreed with the supplier)\n",
            "\n",
            "15. last_order_date (Date when the last order was placed with the supplier)\n",
            "\n",
            "Table name: orders\n",
            "\n",
            "Description: Stores order information\n",
            "\n",
            "Column name Description\n",
            "\n",
            "1. order_id (Unique identifier for each order)\n",
            "\n",
            "2. purchaser_order_id (ID of the customer who made the purchase)\n",
            "\n",
            "3. order_date (Date when the order was placed)\n",
            "\n",
            "4. order_status (Current status of the order (e.g., Processing, Shipped, Delivered))\n",
            "\n",
            "5. shipping_date (Date when the order was shipped)\n",
            "\n",
            "6. delivery_date (Date when the order was delivered)\n",
            "\n",
            "7. shipping_method (Shipping method used for the order)\n",
            "\n",
            "8. tracking_number (Tracking number for the shipment)\n",
            "\n",
            "9. billing_address (Billing address for the order)\n",
            "\n",
            "10. shipping_address (Shipping address for the order)\n",
            "\n",
            "11. payment_method (Payment method used for the order)\n",
            "\n",
            "12. total_amount (Total amount for the order)\n",
            "\n",
            "13. tax_amount (Tax amount for the order)\n",
            "\n",
            "14. discount_amount (Discount amount applied to the order)\n",
            "\n",
            "15. currency (Currency in which the order was placed)\n",
            "\n",
            "Table name: customers\n",
            "\n",
            "Description: Stores customer information\n",
            "\n",
            "Column name Description\n",
            "\n",
            "1. client_id (ID of the customer who made the purchase)\n",
            "\n",
            "2. first_name (First name of the customer)\n",
            "\n",
            "3. last_name (Last name of the customer)\n",
            "\n",
            "4. email (Email address of the customer)\n",
            "\n",
            "5. customer_contact_number (contact number for audio communination)\n",
            "\n",
            "6. registration_date (Date the customer registered)\n",
            "\n",
            "7. country (Country of the customer)\n",
            "\n",
            "8. customer_home_address (Physical location of agent)\n",
            "\n",
            "9. city (City of the customer)\n",
            "\n",
            "10. state (State of the customer)\n",
            "\n",
            "11. zip_code (ZIP code of the customer)\n",
            "\n",
            "12. date_of_birth (Date of birth of the customer)\n",
            "\n",
            "13. gender (Gender of the customer)\n",
            "\n",
            "14. loyalty_status (Loyalty status of the customer (e.g., Gold, Silver))\n",
            "\n",
            "15. last_purchase_date (Date of the last purchase made by the customer)\n"
          ]
        }
      ]
    },
    {
      "cell_type": "markdown",
      "source": [
        "# Importing Feature Extraction Model"
      ],
      "metadata": {
        "id": "agWaCTLa-fv3"
      }
    },
    {
      "cell_type": "code",
      "source": [
        "# Get Embedding Model from HF via API\n",
        "\n",
        "from google.colab import userdata\n",
        "HF_TOKEN = userdata.get('HUGGINGFACEHUB_API_TOKEN')\n",
        "\n",
        "embeddings = HuggingFaceInferenceAPIEmbeddings(\n",
        "    api_key=HF_TOKEN, model_name=\"BAAI/bge-base-en-v1.5\"\n",
        ")"
      ],
      "metadata": {
        "id": "Ch3SR3Wu8Tnw"
      },
      "execution_count": 10,
      "outputs": []
    },
    {
      "cell_type": "markdown",
      "source": [
        "### VectorStore"
      ],
      "metadata": {
        "id": "QfB7uezt9Vud"
      }
    },
    {
      "cell_type": "code",
      "source": [
        "# Vector store with the selected embedding model\n",
        "vectorstore = Chroma.from_documents(docs, embeddings)"
      ],
      "metadata": {
        "id": "GeIka0wR87kF"
      },
      "execution_count": 11,
      "outputs": []
    },
    {
      "cell_type": "code",
      "source": [
        "# vectorstore_retreiver = vectorstore.as_retriever(search_kwargs={\"k\": 3})\n",
        "vectorstore_retreiver = vectorstore.as_retriever()"
      ],
      "metadata": {
        "id": "YaaxtuWw9uJM"
      },
      "execution_count": 12,
      "outputs": []
    },
    {
      "cell_type": "code",
      "source": [
        "keyword_retriever = BM25Retriever.from_documents(docs)\n",
        "# keyword_retriever.k =  3"
      ],
      "metadata": {
        "id": "nMucCA4z9VAn"
      },
      "execution_count": 13,
      "outputs": []
    },
    {
      "cell_type": "markdown",
      "source": [
        "### Ensemble Retriever"
      ],
      "metadata": {
        "id": "b3UCqmV5-D-r"
      }
    },
    {
      "cell_type": "code",
      "source": [
        "ensemble_retriever = EnsembleRetriever(retrievers=[vectorstore_retreiver,\n",
        "                                                   keyword_retriever],\n",
        "                                       weights=[0.5,0.5])"
      ],
      "metadata": {
        "id": "nVhLxoWh95dv"
      },
      "execution_count": 14,
      "outputs": []
    },
    {
      "cell_type": "code",
      "source": [
        "llm = HuggingFaceHub(\n",
        "    repo_id=\"mistralai/Mistral-7B-Instruct-v0.3\",\n",
        "    model_kwargs={\"temperature\": 0.3,\"max_new_tokens\":1024},\n",
        "    huggingfacehub_api_token=HF_TOKEN,\n",
        ")"
      ],
      "metadata": {
        "id": "AG1h9tvE-KqH",
        "colab": {
          "base_uri": "https://localhost:8080/"
        },
        "outputId": "4e1fc942-1e03-458e-b789-9de4fb8a3a8f"
      },
      "execution_count": 15,
      "outputs": [
        {
          "output_type": "stream",
          "name": "stderr",
          "text": [
            "/usr/local/lib/python3.10/dist-packages/langchain_core/_api/deprecation.py:139: LangChainDeprecationWarning: The class `HuggingFaceHub` was deprecated in LangChain 0.0.21 and will be removed in 0.3.0. An updated version of the class exists in the langchain-huggingface package and should be used instead. To use it run `pip install -U langchain-huggingface` and import as `from langchain_huggingface import HuggingFaceEndpoint`.\n",
            "  warn_deprecated(\n"
          ]
        }
      ]
    },
    {
      "cell_type": "markdown",
      "source": [
        "### Prompt Template:"
      ],
      "metadata": {
        "id": "Zk-bQqY8-kUH"
      }
    },
    {
      "cell_type": "code",
      "source": [
        "template = \"\"\"\n",
        "<|system|>>\n",
        "                                              !! Hello !!\n",
        "                                          This is AI Model-2.0\n",
        "                                        How may I help you today?\n",
        "\n",
        "CONTEXT: {context}\n",
        "</s>\n",
        "<|user|>\n",
        "{query}\n",
        "</s>\n",
        "<|assistant|>\n",
        "\"\"\""
      ],
      "metadata": {
        "id": "0C8Vn8PR-QJo"
      },
      "execution_count": 16,
      "outputs": []
    },
    {
      "cell_type": "code",
      "source": [
        "prompt = ChatPromptTemplate.from_template(template)\n",
        "output_parser = StrOutputParser()"
      ],
      "metadata": {
        "id": "c8eDFcNd_Kru"
      },
      "execution_count": 17,
      "outputs": []
    },
    {
      "cell_type": "code",
      "source": [
        "chain = (\n",
        "    {\"context\": ensemble_retriever, \"query\": RunnablePassthrough()}\n",
        "    | prompt\n",
        "    | llm\n",
        "    | output_parser\n",
        ")"
      ],
      "metadata": {
        "id": "5JtvKJk2_Ok2"
      },
      "execution_count": 18,
      "outputs": []
    },
    {
      "cell_type": "markdown",
      "source": [
        "# Queries"
      ],
      "metadata": {
        "id": "ibka0gHp_PJ7"
      }
    },
    {
      "cell_type": "code",
      "source": [
        "print(chain.invoke(\"Give me list of all tables present in data\"))"
      ],
      "metadata": {
        "colab": {
          "base_uri": "https://localhost:8080/"
        },
        "id": "6YVQ1xW3_XNt",
        "outputId": "ee22e955-54e3-42d5-bca0-5a1b6fc9fabd"
      },
      "execution_count": 29,
      "outputs": [
        {
          "output_type": "stream",
          "name": "stderr",
          "text": [
            "WARNING:chromadb.segment.impl.vector.local_hnsw:Number of requested results 4 is greater than number of elements in index 1, updating n_results = 1\n"
          ]
        },
        {
          "output_type": "stream",
          "name": "stdout",
          "text": [
            "Human: \n",
            "<|system|>>\n",
            "                                              !! Hello !!\n",
            "                                          This is AI Model-2.0\n",
            "                                        How may I help you today?\n",
            "\n",
            "CONTEXT: [Document(page_content=\"Table name: products\\n\\nDescription: Stores product information\\n\\nColumn name Description\\n\\n1. product_code (ID of the purchased item)\\n\\n2. product_name (Name of the product)\\n\\n3. category (Product category (e.g., Smartphone, TV))\\n\\n4. launch_date (Launch date of the product)\\n\\n5. price (Price of the product)\\n\\n6. manufacturer (Manufacturer of the product)\\n\\n7. warranty_period (Warranty period of the product)\\n\\n8. stock_quantity (Quantity of product in stock)\\n\\n9. rating (Customer rating of the product)\\n\\n10. dimensions (Dimensions of the product)\\n\\n11. weight (Weight of the product)\\n\\n12. color (Color of the product)\\n\\n13. material (Material of the product)\\n\\n14. power_usage (Power usage of the product)\\n\\n15. model_number (Model number of the product)\\n\\nTable name: sales\\n\\nDescription: Stores sales information\\n\\nColumn name Description\\n\\n1. sale_id (Unique identifier for each sale)\\n\\n2. buyer_id (ID of the customer who made the purchase)\\n\\n3. transaction_product_id (ID of the purchased item)\\n\\n4. sale_date (Date of the sale)\\n\\n5. quantity (Quantity of products sold)\\n\\n6. total_amount (Total amount for the sale)\\n\\n7. sales_channel (Channel through which the sale was made (e.g., Online, In-store))\\n\\n8. payment_method (Payment method used for the sale)\\n\\n9. discount (Discount applied to the sale)\\n\\n10. sales_rep (Sales representative handling the sale)\\n\\n11. delivery_date (Delivery date of the sold product)\\n\\n12. delivery_status (Delivery status of the sold product)\\n\\n13. invoice_number (Invoice number for the sale)\\n\\n14. shipping_cost (Shipping cost for the sale)\\n\\n15. tax_amount (Tax amount applied to the sale)\\n\\nTable name: support_tickets\\n\\nDescription: Stores customer support ticket information\\n\\nColumn name Description\\n\\n1. ticket_id (Unique identifier for each support ticket)\\n\\n2. client_ticket_id (ID of the customer who made the purchase)\\n\\n3. product_issue_id (ID of the purchased item)\\n\\n4. issue_date (Date the issue was reported)\\n\\n5. issue_type (Type of issue (e.g., Hardware, Software))\\n\\n6. resolution_date (Date the issue was resolved)\\n\\n7. status (Status of the ticket (e.g., Open, Closed))\\n\\n8. support_agent (Support agent handling the ticket)\\n\\n9. priority (Priority level of the ticket)\\n\\n10. response_time (Time taken to respond to the ticket)\\n\\n11. issue_description (Description of the issue)\\n\\n12. resolution_details (Details of the resolution)\\n\\n13. feedback_score (Feedback score given by the customer)\\n\\n14. follow_up_date (Date for a follow-up on the ticket)\\n\\n15. category (Category of the issue)\\n\\nTable name: marketing_campaigns\\n\\nDescription: Stores marketing campaign information\\n\\nColumn name Description\\n\\n1. campaign_id (Unique identifier for each campaign)\\n\\n2. campaign_name (Name of the campaign)\\n\\n3. start_date (Start date of the campaign)\\n\\n4. end_date (End date of the campaign)\\n\\n5. budget (Budget allocated for the campaign)\\n\\n6. target_audience (Target audience for the campaign)\\n\\n7. advertised_product_id (ID of the purchased item)\\n\\n8. channels (Marketing channels used in the campaign (e.g., TV, Social Media))\\n\\n9. goal (Primary goal of the campaign (e.g., Brand Awareness, Lead Generation))\\n\\n10. region (Geographical region targeted by the campaign)\\n\\n11. creative_idea (Creative idea or theme of the campaign)\\n\\n12. ad_spend (Amount spent on advertising during the campaign)\\n\\n13. leads_generated (Number of leads generated through the campaign)\\n\\n14. conversions (Number of conversions achieved through the campaign)\\n\\n15. roi (Return on investment for the campaign)\\n\\nTable name: employees\\n\\nDescription: Stores employee information\\n\\nColumn name Description\\n\\n1. employee_id (Unique identifier for each employee)\\n\\n2. first_name (First name of the employee)\\n\\n3. last_name (Last name of the employee)\\n\\n4. email (Email address of the employee)\\n\\n5. staff_contact (contact number for audio communination)\\n\\n6. hire_date (Date the employee was hired)\\n\\n7. job_title (Job title of the employee)\\n\\n8. department (Department where the employee works)\\n\\n9. manager_id (ID of the employee's manager)\\n\\n10. salary (Annual salary of the employee)\\n\\n11. bonus (Annual bonus of the employee)\\n\\n12. commission_pct (Commission percentage of the employee)\\n\\n13. staff_residence (Physical location of agent)\\n\\n14. city (City of the employee)\\n\\n15. state (State of the employee)\\n\\nTable name: departments\\n\\nDescription: Stores department information\\n\\nColumn name Description\\n\\n1. department_id (Unique identifier for each department)\\n\\n2. department_name (Name of the department)\\n\\n3. manager_id (ID of the department manager)\\n\\n4. location (Location of the department)\\n\\n5. budget (Annual budget of the department)\\n\\n6. department_telephone (contact number for audio communination)\\n\\n7. email (Contact email for the department)\\n\\n8. number_of_employees (Number of employees in the department)\\n\\n9. established_date (Date the department was established)\\n\\n10. department_goal (Primary goal of the department)\\n\\n11. performance_rating (Performance rating of the department)\\n\\n12. primary_function (Primary function of the department)\\n\\n13. subsidiary (Subsidiary under which the department operates)\\n\\n14. main_product (Main product the department deals with)\\n\\n15. strategy (Strategic goals of the department)\\n\\nTable name: inventory\\n\\nDescription: Stores inventory information\\n\\nColumn name Description\\n\\n1. inventory_id (Unique identifier for each inventory record)\\n\\n2. inventory_item_id (ID of the purchased item)\\n\\n3. warehouse_location (Location of the warehouse)\\n\\n4. stock_quantity (Quantity of product in stock)\\n\\n5. reorder_level (Stock level at which reorder is needed)\\n\\n6. reorder_quantity (Quantity to reorder when stock is low)\\n\\n7. supplier_id (ID of the product supplier)\\n\\n8. batch_number (Batch number of the product)\\n\\n9. expiry_date (Expiry date of the product batch)\\n\\n10. manufacture_date (Manufacture date of the product batch)\\n\\n11. storage_conditions (Storage conditions for the product)\\n\\n12. last_restock_date (Date when the product was last restocked)\\n\\n13. lead_time (Lead time for product replenishment)\\n\\n14. cost_per_unit (Cost per unit of the product)\\n\\n15. total_value (Total value of the inventory)\\n\\nTable name: suppliers\\n\\nDescription: Stores supplier information\\n\\nColumn name Description\\n\\n1. supplier_id (Unique identifier for each supplier)\\n\\n2. supplier_name (Name of the supplier)\\n\\n3. contact_name (Contact person's name at the supplier)\\n\\n4. contact_email (Contact person's email at the supplier)\\n\\n5. contact_phone (Contact person's phone number at the supplier)\\n\\n6. supplier_office_address (Physical location of agent)\\n\\n7. city (City where the supplier is located)\\n\\n8. state (State where the supplier is located)\\n\\n9. zip_code (ZIP code of the supplier's location)\\n\\n10. country (Country where the supplier is located)\\n\\n11. products_supplied (Products supplied by the supplier)\\n\\n12. rating (Rating of the supplier)\\n\\n13. payment_terms (Payment terms agreed with the supplier)\\n\\n14. delivery_schedule (Delivery schedule agreed with the supplier)\\n\\n15. last_order_date (Date when the last order was placed with the supplier)\\n\\nTable name: orders\\n\\nDescription: Stores order information\\n\\nColumn name Description\\n\\n1. order_id (Unique identifier for each order)\\n\\n2. purchaser_order_id (ID of the customer who made the purchase)\\n\\n3. order_date (Date when the order was placed)\\n\\n4. order_status (Current status of the order (e.g., Processing, Shipped, Delivered))\\n\\n5. shipping_date (Date when the order was shipped)\\n\\n6. delivery_date (Date when the order was delivered)\\n\\n7. shipping_method (Shipping method used for the order)\\n\\n8. tracking_number (Tracking number for the shipment)\\n\\n9. billing_address (Billing address for the order)\\n\\n10. shipping_address (Shipping address for the order)\\n\\n11. payment_method (Payment method used for the order)\\n\\n12. total_amount (Total amount for the order)\\n\\n13. tax_amount (Tax amount for the order)\\n\\n14. discount_amount (Discount amount applied to the order)\\n\\n15. currency (Currency in which the order was placed)\\n\\nTable name: customers\\n\\nDescription: Stores customer information\\n\\nColumn name Description\\n\\n1. client_id (ID of the customer who made the purchase)\\n\\n2. first_name (First name of the customer)\\n\\n3. last_name (Last name of the customer)\\n\\n4. email (Email address of the customer)\\n\\n5. customer_contact_number (contact number for audio communination)\\n\\n6. registration_date (Date the customer registered)\\n\\n7. country (Country of the customer)\\n\\n8. customer_home_address (Physical location of agent)\\n\\n9. city (City of the customer)\\n\\n10. state (State of the customer)\\n\\n11. zip_code (ZIP code of the customer)\\n\\n12. date_of_birth (Date of birth of the customer)\\n\\n13. gender (Gender of the customer)\\n\\n14. loyalty_status (Loyalty status of the customer (e.g., Gold, Silver))\\n\\n15. last_purchase_date (Date of the last purchase made by the customer)\", metadata={'source': '/content/new_data.pdf'})]\n",
            "</s>\n",
            "<|user|>\n",
            "Give me list of all tables present in data\n",
            "</s>\n",
            "<|assistant|>\n",
            "Based on the context provided, the tables present in the data are:\n",
            "1. products\n",
            "2. sales\n",
            "3. support_tickets\n",
            "4. marketing_campaigns\n",
            "5. employees\n",
            "6. departments\n",
            "7. inventory\n",
            "8. suppliers\n",
            "9. orders\n",
            "10. customers\n"
          ]
        }
      ]
    },
    {
      "cell_type": "code",
      "source": [
        "print(chain.invoke(\"give me tables that can be join on the basis of column description\"))"
      ],
      "metadata": {
        "id": "fPGNd-aV__1x",
        "colab": {
          "base_uri": "https://localhost:8080/"
        },
        "outputId": "005f42f7-2021-4351-ca6b-b5b71ffe338b"
      },
      "execution_count": 20,
      "outputs": [
        {
          "output_type": "stream",
          "name": "stderr",
          "text": [
            "WARNING:chromadb.segment.impl.vector.local_hnsw:Number of requested results 4 is greater than number of elements in index 1, updating n_results = 1\n"
          ]
        },
        {
          "output_type": "stream",
          "name": "stdout",
          "text": [
            "Human: \n",
            "<|system|>>\n",
            "                                              !! Hello !!\n",
            "                                          This is AI Model-2.0\n",
            "                                        How may I help you today?\n",
            "\n",
            "CONTEXT: [Document(page_content=\"Table name: products\\n\\nDescription: Stores product information\\n\\nColumn name Description\\n\\n1. product_code (ID of the purchased item)\\n\\n2. product_name (Name of the product)\\n\\n3. category (Product category (e.g., Smartphone, TV))\\n\\n4. launch_date (Launch date of the product)\\n\\n5. price (Price of the product)\\n\\n6. manufacturer (Manufacturer of the product)\\n\\n7. warranty_period (Warranty period of the product)\\n\\n8. stock_quantity (Quantity of product in stock)\\n\\n9. rating (Customer rating of the product)\\n\\n10. dimensions (Dimensions of the product)\\n\\n11. weight (Weight of the product)\\n\\n12. color (Color of the product)\\n\\n13. material (Material of the product)\\n\\n14. power_usage (Power usage of the product)\\n\\n15. model_number (Model number of the product)\\n\\nTable name: sales\\n\\nDescription: Stores sales information\\n\\nColumn name Description\\n\\n1. sale_id (Unique identifier for each sale)\\n\\n2. buyer_id (ID of the customer who made the purchase)\\n\\n3. transaction_product_id (ID of the purchased item)\\n\\n4. sale_date (Date of the sale)\\n\\n5. quantity (Quantity of products sold)\\n\\n6. total_amount (Total amount for the sale)\\n\\n7. sales_channel (Channel through which the sale was made (e.g., Online, In-store))\\n\\n8. payment_method (Payment method used for the sale)\\n\\n9. discount (Discount applied to the sale)\\n\\n10. sales_rep (Sales representative handling the sale)\\n\\n11. delivery_date (Delivery date of the sold product)\\n\\n12. delivery_status (Delivery status of the sold product)\\n\\n13. invoice_number (Invoice number for the sale)\\n\\n14. shipping_cost (Shipping cost for the sale)\\n\\n15. tax_amount (Tax amount applied to the sale)\\n\\nTable name: support_tickets\\n\\nDescription: Stores customer support ticket information\\n\\nColumn name Description\\n\\n1. ticket_id (Unique identifier for each support ticket)\\n\\n2. client_ticket_id (ID of the customer who made the purchase)\\n\\n3. product_issue_id (ID of the purchased item)\\n\\n4. issue_date (Date the issue was reported)\\n\\n5. issue_type (Type of issue (e.g., Hardware, Software))\\n\\n6. resolution_date (Date the issue was resolved)\\n\\n7. status (Status of the ticket (e.g., Open, Closed))\\n\\n8. support_agent (Support agent handling the ticket)\\n\\n9. priority (Priority level of the ticket)\\n\\n10. response_time (Time taken to respond to the ticket)\\n\\n11. issue_description (Description of the issue)\\n\\n12. resolution_details (Details of the resolution)\\n\\n13. feedback_score (Feedback score given by the customer)\\n\\n14. follow_up_date (Date for a follow-up on the ticket)\\n\\n15. category (Category of the issue)\\n\\nTable name: marketing_campaigns\\n\\nDescription: Stores marketing campaign information\\n\\nColumn name Description\\n\\n1. campaign_id (Unique identifier for each campaign)\\n\\n2. campaign_name (Name of the campaign)\\n\\n3. start_date (Start date of the campaign)\\n\\n4. end_date (End date of the campaign)\\n\\n5. budget (Budget allocated for the campaign)\\n\\n6. target_audience (Target audience for the campaign)\\n\\n7. advertised_product_id (ID of the purchased item)\\n\\n8. channels (Marketing channels used in the campaign (e.g., TV, Social Media))\\n\\n9. goal (Primary goal of the campaign (e.g., Brand Awareness, Lead Generation))\\n\\n10. region (Geographical region targeted by the campaign)\\n\\n11. creative_idea (Creative idea or theme of the campaign)\\n\\n12. ad_spend (Amount spent on advertising during the campaign)\\n\\n13. leads_generated (Number of leads generated through the campaign)\\n\\n14. conversions (Number of conversions achieved through the campaign)\\n\\n15. roi (Return on investment for the campaign)\\n\\nTable name: employees\\n\\nDescription: Stores employee information\\n\\nColumn name Description\\n\\n1. employee_id (Unique identifier for each employee)\\n\\n2. first_name (First name of the employee)\\n\\n3. last_name (Last name of the employee)\\n\\n4. email (Email address of the employee)\\n\\n5. staff_contact (contact number for audio communination)\\n\\n6. hire_date (Date the employee was hired)\\n\\n7. job_title (Job title of the employee)\\n\\n8. department (Department where the employee works)\\n\\n9. manager_id (ID of the employee's manager)\\n\\n10. salary (Annual salary of the employee)\\n\\n11. bonus (Annual bonus of the employee)\\n\\n12. commission_pct (Commission percentage of the employee)\\n\\n13. staff_residence (Physical location of agent)\\n\\n14. city (City of the employee)\\n\\n15. state (State of the employee)\\n\\nTable name: departments\\n\\nDescription: Stores department information\\n\\nColumn name Description\\n\\n1. department_id (Unique identifier for each department)\\n\\n2. department_name (Name of the department)\\n\\n3. manager_id (ID of the department manager)\\n\\n4. location (Location of the department)\\n\\n5. budget (Annual budget of the department)\\n\\n6. department_telephone (contact number for audio communination)\\n\\n7. email (Contact email for the department)\\n\\n8. number_of_employees (Number of employees in the department)\\n\\n9. established_date (Date the department was established)\\n\\n10. department_goal (Primary goal of the department)\\n\\n11. performance_rating (Performance rating of the department)\\n\\n12. primary_function (Primary function of the department)\\n\\n13. subsidiary (Subsidiary under which the department operates)\\n\\n14. main_product (Main product the department deals with)\\n\\n15. strategy (Strategic goals of the department)\\n\\nTable name: inventory\\n\\nDescription: Stores inventory information\\n\\nColumn name Description\\n\\n1. inventory_id (Unique identifier for each inventory record)\\n\\n2. inventory_item_id (ID of the purchased item)\\n\\n3. warehouse_location (Location of the warehouse)\\n\\n4. stock_quantity (Quantity of product in stock)\\n\\n5. reorder_level (Stock level at which reorder is needed)\\n\\n6. reorder_quantity (Quantity to reorder when stock is low)\\n\\n7. supplier_id (ID of the product supplier)\\n\\n8. batch_number (Batch number of the product)\\n\\n9. expiry_date (Expiry date of the product batch)\\n\\n10. manufacture_date (Manufacture date of the product batch)\\n\\n11. storage_conditions (Storage conditions for the product)\\n\\n12. last_restock_date (Date when the product was last restocked)\\n\\n13. lead_time (Lead time for product replenishment)\\n\\n14. cost_per_unit (Cost per unit of the product)\\n\\n15. total_value (Total value of the inventory)\\n\\nTable name: suppliers\\n\\nDescription: Stores supplier information\\n\\nColumn name Description\\n\\n1. supplier_id (Unique identifier for each supplier)\\n\\n2. supplier_name (Name of the supplier)\\n\\n3. contact_name (Contact person's name at the supplier)\\n\\n4. contact_email (Contact person's email at the supplier)\\n\\n5. contact_phone (Contact person's phone number at the supplier)\\n\\n6. supplier_office_address (Physical location of agent)\\n\\n7. city (City where the supplier is located)\\n\\n8. state (State where the supplier is located)\\n\\n9. zip_code (ZIP code of the supplier's location)\\n\\n10. country (Country where the supplier is located)\\n\\n11. products_supplied (Products supplied by the supplier)\\n\\n12. rating (Rating of the supplier)\\n\\n13. payment_terms (Payment terms agreed with the supplier)\\n\\n14. delivery_schedule (Delivery schedule agreed with the supplier)\\n\\n15. last_order_date (Date when the last order was placed with the supplier)\\n\\nTable name: orders\\n\\nDescription: Stores order information\\n\\nColumn name Description\\n\\n1. order_id (Unique identifier for each order)\\n\\n2. purchaser_order_id (ID of the customer who made the purchase)\\n\\n3. order_date (Date when the order was placed)\\n\\n4. order_status (Current status of the order (e.g., Processing, Shipped, Delivered))\\n\\n5. shipping_date (Date when the order was shipped)\\n\\n6. delivery_date (Date when the order was delivered)\\n\\n7. shipping_method (Shipping method used for the order)\\n\\n8. tracking_number (Tracking number for the shipment)\\n\\n9. billing_address (Billing address for the order)\\n\\n10. shipping_address (Shipping address for the order)\\n\\n11. payment_method (Payment method used for the order)\\n\\n12. total_amount (Total amount for the order)\\n\\n13. tax_amount (Tax amount for the order)\\n\\n14. discount_amount (Discount amount applied to the order)\\n\\n15. currency (Currency in which the order was placed)\\n\\nTable name: customers\\n\\nDescription: Stores customer information\\n\\nColumn name Description\\n\\n1. client_id (ID of the customer who made the purchase)\\n\\n2. first_name (First name of the customer)\\n\\n3. last_name (Last name of the customer)\\n\\n4. email (Email address of the customer)\\n\\n5. customer_contact_number (contact number for audio communination)\\n\\n6. registration_date (Date the customer registered)\\n\\n7. country (Country of the customer)\\n\\n8. customer_home_address (Physical location of agent)\\n\\n9. city (City of the customer)\\n\\n10. state (State of the customer)\\n\\n11. zip_code (ZIP code of the customer)\\n\\n12. date_of_birth (Date of birth of the customer)\\n\\n13. gender (Gender of the customer)\\n\\n14. loyalty_status (Loyalty status of the customer (e.g., Gold, Silver))\\n\\n15. last_purchase_date (Date of the last purchase made by the customer)\", metadata={'source': '/content/new_data.pdf'})]\n",
            "</s>\n",
            "<|user|>\n",
            "give me tables that can be join on the basis of column description\n",
            "</s>\n",
            "<|assistant|>\n",
            "Based on the provided table descriptions, the following tables can be joined on common columns:\n",
            "\n",
            "1. products and sales: They can be joined on the column \"transaction_product_id\" in the sales table and \"product_code\" in the products table.\n",
            "2. sales and support_tickets: They can be joined on the column \"buyer_id\" in both tables.\n",
            "3. marketing_campaigns and sales: They can be joined on the column \"advertised_product_id\" in the marketing_campaigns table and \"product_code\" in the products table.\n",
            "4. employees and departments: They can be joined on the column \"manager_id\" in both tables.\n",
            "5. departments and employees: They can be joined on the column \"department_id\" in both tables.\n",
            "6. inventory and sales: They can be joined on the column \"inventory_item_id\" in the inventory table and \"product_code\" in the products table.\n",
            "7. suppliers and inventory: They can be joined on the column \"supplier_id\" in both tables.\n",
            "8. customers and sales: They can be joined on the column \"purchaser_order_id\" in both tables.\n",
            "9. customers and support_tickets: They can be joined on the column \"client_ticket_id\" in both tables.\n",
            "10. marketing_campaigns and customers: They can be joined on the column \"target_audience\" if it is defined as a customer ID or email address.\n",
            "11. marketing_campaigns and employees: They can be joined on the column \"employee_id\" if employees are involved in the marketing campaigns.\n",
            "12. marketing_campaigns and departments: They can be joined on the column \"department_id\" if departments are involved in the marketing campaigns.\n",
            "13. support_tickets and employees: They can be joined on the column \"support_agent\" if the support agent is an employee.\n",
            "14. support_tickets and departments: They can be joined on the column \"department_id\" if the support department is involved in the ticket.\n",
            "15. inventory and sales_channel: They can be joined on the column \"sales_channel\" if the sales channel is relevant to inventory management.\n",
            "16. employees and sales_channel: They can be joined on the column \"sales_channel\" if the sales channel is relevant to employee performance.\n",
            "17. departments and sales_channel: They can be joined on the column \"sales_channel\" if the sales channel is relevant to department performance.\n",
            "18. customers and sales_channel: They can be joined on the column \"sales_channel\" if the sales channel is relevant to customer behavior.\n",
            "19. marketing_campaigns and sales_channel: They can be joined on the column \"channels\" if the marketing campaign is targeted through a specific sales channel.\n",
            "20. customers and marketing_campaigns: They can be joined on the column \"client_id\" if customers are targeted in marketing campaigns.\n"
          ]
        }
      ]
    },
    {
      "cell_type": "code",
      "source": [
        "print(chain.invoke(\"Give me all 10 table with there description\"))"
      ],
      "metadata": {
        "colab": {
          "base_uri": "https://localhost:8080/"
        },
        "id": "ZwExkoscFF7P",
        "outputId": "a3084471-380d-4eaf-9481-07f5d3a753b8"
      },
      "execution_count": 21,
      "outputs": [
        {
          "output_type": "stream",
          "name": "stderr",
          "text": [
            "WARNING:chromadb.segment.impl.vector.local_hnsw:Number of requested results 4 is greater than number of elements in index 1, updating n_results = 1\n"
          ]
        },
        {
          "output_type": "stream",
          "name": "stdout",
          "text": [
            "Human: \n",
            "<|system|>>\n",
            "                                              !! Hello !!\n",
            "                                          This is AI Model-2.0\n",
            "                                        How may I help you today?\n",
            "\n",
            "CONTEXT: [Document(page_content=\"Table name: products\\n\\nDescription: Stores product information\\n\\nColumn name Description\\n\\n1. product_code (ID of the purchased item)\\n\\n2. product_name (Name of the product)\\n\\n3. category (Product category (e.g., Smartphone, TV))\\n\\n4. launch_date (Launch date of the product)\\n\\n5. price (Price of the product)\\n\\n6. manufacturer (Manufacturer of the product)\\n\\n7. warranty_period (Warranty period of the product)\\n\\n8. stock_quantity (Quantity of product in stock)\\n\\n9. rating (Customer rating of the product)\\n\\n10. dimensions (Dimensions of the product)\\n\\n11. weight (Weight of the product)\\n\\n12. color (Color of the product)\\n\\n13. material (Material of the product)\\n\\n14. power_usage (Power usage of the product)\\n\\n15. model_number (Model number of the product)\\n\\nTable name: sales\\n\\nDescription: Stores sales information\\n\\nColumn name Description\\n\\n1. sale_id (Unique identifier for each sale)\\n\\n2. buyer_id (ID of the customer who made the purchase)\\n\\n3. transaction_product_id (ID of the purchased item)\\n\\n4. sale_date (Date of the sale)\\n\\n5. quantity (Quantity of products sold)\\n\\n6. total_amount (Total amount for the sale)\\n\\n7. sales_channel (Channel through which the sale was made (e.g., Online, In-store))\\n\\n8. payment_method (Payment method used for the sale)\\n\\n9. discount (Discount applied to the sale)\\n\\n10. sales_rep (Sales representative handling the sale)\\n\\n11. delivery_date (Delivery date of the sold product)\\n\\n12. delivery_status (Delivery status of the sold product)\\n\\n13. invoice_number (Invoice number for the sale)\\n\\n14. shipping_cost (Shipping cost for the sale)\\n\\n15. tax_amount (Tax amount applied to the sale)\\n\\nTable name: support_tickets\\n\\nDescription: Stores customer support ticket information\\n\\nColumn name Description\\n\\n1. ticket_id (Unique identifier for each support ticket)\\n\\n2. client_ticket_id (ID of the customer who made the purchase)\\n\\n3. product_issue_id (ID of the purchased item)\\n\\n4. issue_date (Date the issue was reported)\\n\\n5. issue_type (Type of issue (e.g., Hardware, Software))\\n\\n6. resolution_date (Date the issue was resolved)\\n\\n7. status (Status of the ticket (e.g., Open, Closed))\\n\\n8. support_agent (Support agent handling the ticket)\\n\\n9. priority (Priority level of the ticket)\\n\\n10. response_time (Time taken to respond to the ticket)\\n\\n11. issue_description (Description of the issue)\\n\\n12. resolution_details (Details of the resolution)\\n\\n13. feedback_score (Feedback score given by the customer)\\n\\n14. follow_up_date (Date for a follow-up on the ticket)\\n\\n15. category (Category of the issue)\\n\\nTable name: marketing_campaigns\\n\\nDescription: Stores marketing campaign information\\n\\nColumn name Description\\n\\n1. campaign_id (Unique identifier for each campaign)\\n\\n2. campaign_name (Name of the campaign)\\n\\n3. start_date (Start date of the campaign)\\n\\n4. end_date (End date of the campaign)\\n\\n5. budget (Budget allocated for the campaign)\\n\\n6. target_audience (Target audience for the campaign)\\n\\n7. advertised_product_id (ID of the purchased item)\\n\\n8. channels (Marketing channels used in the campaign (e.g., TV, Social Media))\\n\\n9. goal (Primary goal of the campaign (e.g., Brand Awareness, Lead Generation))\\n\\n10. region (Geographical region targeted by the campaign)\\n\\n11. creative_idea (Creative idea or theme of the campaign)\\n\\n12. ad_spend (Amount spent on advertising during the campaign)\\n\\n13. leads_generated (Number of leads generated through the campaign)\\n\\n14. conversions (Number of conversions achieved through the campaign)\\n\\n15. roi (Return on investment for the campaign)\\n\\nTable name: employees\\n\\nDescription: Stores employee information\\n\\nColumn name Description\\n\\n1. employee_id (Unique identifier for each employee)\\n\\n2. first_name (First name of the employee)\\n\\n3. last_name (Last name of the employee)\\n\\n4. email (Email address of the employee)\\n\\n5. staff_contact (contact number for audio communination)\\n\\n6. hire_date (Date the employee was hired)\\n\\n7. job_title (Job title of the employee)\\n\\n8. department (Department where the employee works)\\n\\n9. manager_id (ID of the employee's manager)\\n\\n10. salary (Annual salary of the employee)\\n\\n11. bonus (Annual bonus of the employee)\\n\\n12. commission_pct (Commission percentage of the employee)\\n\\n13. staff_residence (Physical location of agent)\\n\\n14. city (City of the employee)\\n\\n15. state (State of the employee)\\n\\nTable name: departments\\n\\nDescription: Stores department information\\n\\nColumn name Description\\n\\n1. department_id (Unique identifier for each department)\\n\\n2. department_name (Name of the department)\\n\\n3. manager_id (ID of the department manager)\\n\\n4. location (Location of the department)\\n\\n5. budget (Annual budget of the department)\\n\\n6. department_telephone (contact number for audio communination)\\n\\n7. email (Contact email for the department)\\n\\n8. number_of_employees (Number of employees in the department)\\n\\n9. established_date (Date the department was established)\\n\\n10. department_goal (Primary goal of the department)\\n\\n11. performance_rating (Performance rating of the department)\\n\\n12. primary_function (Primary function of the department)\\n\\n13. subsidiary (Subsidiary under which the department operates)\\n\\n14. main_product (Main product the department deals with)\\n\\n15. strategy (Strategic goals of the department)\\n\\nTable name: inventory\\n\\nDescription: Stores inventory information\\n\\nColumn name Description\\n\\n1. inventory_id (Unique identifier for each inventory record)\\n\\n2. inventory_item_id (ID of the purchased item)\\n\\n3. warehouse_location (Location of the warehouse)\\n\\n4. stock_quantity (Quantity of product in stock)\\n\\n5. reorder_level (Stock level at which reorder is needed)\\n\\n6. reorder_quantity (Quantity to reorder when stock is low)\\n\\n7. supplier_id (ID of the product supplier)\\n\\n8. batch_number (Batch number of the product)\\n\\n9. expiry_date (Expiry date of the product batch)\\n\\n10. manufacture_date (Manufacture date of the product batch)\\n\\n11. storage_conditions (Storage conditions for the product)\\n\\n12. last_restock_date (Date when the product was last restocked)\\n\\n13. lead_time (Lead time for product replenishment)\\n\\n14. cost_per_unit (Cost per unit of the product)\\n\\n15. total_value (Total value of the inventory)\\n\\nTable name: suppliers\\n\\nDescription: Stores supplier information\\n\\nColumn name Description\\n\\n1. supplier_id (Unique identifier for each supplier)\\n\\n2. supplier_name (Name of the supplier)\\n\\n3. contact_name (Contact person's name at the supplier)\\n\\n4. contact_email (Contact person's email at the supplier)\\n\\n5. contact_phone (Contact person's phone number at the supplier)\\n\\n6. supplier_office_address (Physical location of agent)\\n\\n7. city (City where the supplier is located)\\n\\n8. state (State where the supplier is located)\\n\\n9. zip_code (ZIP code of the supplier's location)\\n\\n10. country (Country where the supplier is located)\\n\\n11. products_supplied (Products supplied by the supplier)\\n\\n12. rating (Rating of the supplier)\\n\\n13. payment_terms (Payment terms agreed with the supplier)\\n\\n14. delivery_schedule (Delivery schedule agreed with the supplier)\\n\\n15. last_order_date (Date when the last order was placed with the supplier)\\n\\nTable name: orders\\n\\nDescription: Stores order information\\n\\nColumn name Description\\n\\n1. order_id (Unique identifier for each order)\\n\\n2. purchaser_order_id (ID of the customer who made the purchase)\\n\\n3. order_date (Date when the order was placed)\\n\\n4. order_status (Current status of the order (e.g., Processing, Shipped, Delivered))\\n\\n5. shipping_date (Date when the order was shipped)\\n\\n6. delivery_date (Date when the order was delivered)\\n\\n7. shipping_method (Shipping method used for the order)\\n\\n8. tracking_number (Tracking number for the shipment)\\n\\n9. billing_address (Billing address for the order)\\n\\n10. shipping_address (Shipping address for the order)\\n\\n11. payment_method (Payment method used for the order)\\n\\n12. total_amount (Total amount for the order)\\n\\n13. tax_amount (Tax amount for the order)\\n\\n14. discount_amount (Discount amount applied to the order)\\n\\n15. currency (Currency in which the order was placed)\\n\\nTable name: customers\\n\\nDescription: Stores customer information\\n\\nColumn name Description\\n\\n1. client_id (ID of the customer who made the purchase)\\n\\n2. first_name (First name of the customer)\\n\\n3. last_name (Last name of the customer)\\n\\n4. email (Email address of the customer)\\n\\n5. customer_contact_number (contact number for audio communination)\\n\\n6. registration_date (Date the customer registered)\\n\\n7. country (Country of the customer)\\n\\n8. customer_home_address (Physical location of agent)\\n\\n9. city (City of the customer)\\n\\n10. state (State of the customer)\\n\\n11. zip_code (ZIP code of the customer)\\n\\n12. date_of_birth (Date of birth of the customer)\\n\\n13. gender (Gender of the customer)\\n\\n14. loyalty_status (Loyalty status of the customer (e.g., Gold, Silver))\\n\\n15. last_purchase_date (Date of the last purchase made by the customer)\", metadata={'source': '/content/new_data.pdf'})]\n",
            "</s>\n",
            "<|user|>\n",
            "Give me all 10 table with there description\n",
            "</s>\n",
            "<|assistant|>\n",
            "Here are the 10 tables with their descriptions:\n",
            "\n",
            "1. products\n",
            "   - Stores product information\n",
            "\n",
            "2. sales\n",
            "   - Stores sales information\n",
            "\n",
            "3. support_tickets\n",
            "   - Stores customer support ticket information\n",
            "\n",
            "4. marketing_campaigns\n",
            "   - Stores marketing campaign information\n",
            "\n",
            "5. employees\n",
            "   - Stores employee information\n",
            "\n",
            "6. departments\n",
            "   - Stores department information\n",
            "\n",
            "7. inventory\n",
            "   - Stores inventory information\n",
            "\n",
            "8. suppliers\n",
            "   - Stores supplier information\n",
            "\n",
            "9. orders\n",
            "   - Stores order information\n",
            "\n",
            "10. customers\n",
            "   - Stores customer information\n"
          ]
        }
      ]
    },
    {
      "cell_type": "code",
      "source": [
        "print(chain.invoke(\"Give me tables names that have (description:ID of the customer who made the purchase)\"))"
      ],
      "metadata": {
        "colab": {
          "base_uri": "https://localhost:8080/"
        },
        "id": "P1VO00FO63af",
        "outputId": "7270601c-dcdc-4c6f-a28f-6720e57580c0"
      },
      "execution_count": 25,
      "outputs": [
        {
          "output_type": "stream",
          "name": "stderr",
          "text": [
            "WARNING:chromadb.segment.impl.vector.local_hnsw:Number of requested results 4 is greater than number of elements in index 1, updating n_results = 1\n"
          ]
        },
        {
          "output_type": "stream",
          "name": "stdout",
          "text": [
            "Human: \n",
            "<|system|>>\n",
            "                                              !! Hello !!\n",
            "                                          This is AI Model-2.0\n",
            "                                        How may I help you today?\n",
            "\n",
            "CONTEXT: [Document(page_content=\"Table name: products\\n\\nDescription: Stores product information\\n\\nColumn name Description\\n\\n1. product_code (ID of the purchased item)\\n\\n2. product_name (Name of the product)\\n\\n3. category (Product category (e.g., Smartphone, TV))\\n\\n4. launch_date (Launch date of the product)\\n\\n5. price (Price of the product)\\n\\n6. manufacturer (Manufacturer of the product)\\n\\n7. warranty_period (Warranty period of the product)\\n\\n8. stock_quantity (Quantity of product in stock)\\n\\n9. rating (Customer rating of the product)\\n\\n10. dimensions (Dimensions of the product)\\n\\n11. weight (Weight of the product)\\n\\n12. color (Color of the product)\\n\\n13. material (Material of the product)\\n\\n14. power_usage (Power usage of the product)\\n\\n15. model_number (Model number of the product)\\n\\nTable name: sales\\n\\nDescription: Stores sales information\\n\\nColumn name Description\\n\\n1. sale_id (Unique identifier for each sale)\\n\\n2. buyer_id (ID of the customer who made the purchase)\\n\\n3. transaction_product_id (ID of the purchased item)\\n\\n4. sale_date (Date of the sale)\\n\\n5. quantity (Quantity of products sold)\\n\\n6. total_amount (Total amount for the sale)\\n\\n7. sales_channel (Channel through which the sale was made (e.g., Online, In-store))\\n\\n8. payment_method (Payment method used for the sale)\\n\\n9. discount (Discount applied to the sale)\\n\\n10. sales_rep (Sales representative handling the sale)\\n\\n11. delivery_date (Delivery date of the sold product)\\n\\n12. delivery_status (Delivery status of the sold product)\\n\\n13. invoice_number (Invoice number for the sale)\\n\\n14. shipping_cost (Shipping cost for the sale)\\n\\n15. tax_amount (Tax amount applied to the sale)\\n\\nTable name: support_tickets\\n\\nDescription: Stores customer support ticket information\\n\\nColumn name Description\\n\\n1. ticket_id (Unique identifier for each support ticket)\\n\\n2. client_ticket_id (ID of the customer who made the purchase)\\n\\n3. product_issue_id (ID of the purchased item)\\n\\n4. issue_date (Date the issue was reported)\\n\\n5. issue_type (Type of issue (e.g., Hardware, Software))\\n\\n6. resolution_date (Date the issue was resolved)\\n\\n7. status (Status of the ticket (e.g., Open, Closed))\\n\\n8. support_agent (Support agent handling the ticket)\\n\\n9. priority (Priority level of the ticket)\\n\\n10. response_time (Time taken to respond to the ticket)\\n\\n11. issue_description (Description of the issue)\\n\\n12. resolution_details (Details of the resolution)\\n\\n13. feedback_score (Feedback score given by the customer)\\n\\n14. follow_up_date (Date for a follow-up on the ticket)\\n\\n15. category (Category of the issue)\\n\\nTable name: marketing_campaigns\\n\\nDescription: Stores marketing campaign information\\n\\nColumn name Description\\n\\n1. campaign_id (Unique identifier for each campaign)\\n\\n2. campaign_name (Name of the campaign)\\n\\n3. start_date (Start date of the campaign)\\n\\n4. end_date (End date of the campaign)\\n\\n5. budget (Budget allocated for the campaign)\\n\\n6. target_audience (Target audience for the campaign)\\n\\n7. advertised_product_id (ID of the purchased item)\\n\\n8. channels (Marketing channels used in the campaign (e.g., TV, Social Media))\\n\\n9. goal (Primary goal of the campaign (e.g., Brand Awareness, Lead Generation))\\n\\n10. region (Geographical region targeted by the campaign)\\n\\n11. creative_idea (Creative idea or theme of the campaign)\\n\\n12. ad_spend (Amount spent on advertising during the campaign)\\n\\n13. leads_generated (Number of leads generated through the campaign)\\n\\n14. conversions (Number of conversions achieved through the campaign)\\n\\n15. roi (Return on investment for the campaign)\\n\\nTable name: employees\\n\\nDescription: Stores employee information\\n\\nColumn name Description\\n\\n1. employee_id (Unique identifier for each employee)\\n\\n2. first_name (First name of the employee)\\n\\n3. last_name (Last name of the employee)\\n\\n4. email (Email address of the employee)\\n\\n5. staff_contact (contact number for audio communination)\\n\\n6. hire_date (Date the employee was hired)\\n\\n7. job_title (Job title of the employee)\\n\\n8. department (Department where the employee works)\\n\\n9. manager_id (ID of the employee's manager)\\n\\n10. salary (Annual salary of the employee)\\n\\n11. bonus (Annual bonus of the employee)\\n\\n12. commission_pct (Commission percentage of the employee)\\n\\n13. staff_residence (Physical location of agent)\\n\\n14. city (City of the employee)\\n\\n15. state (State of the employee)\\n\\nTable name: departments\\n\\nDescription: Stores department information\\n\\nColumn name Description\\n\\n1. department_id (Unique identifier for each department)\\n\\n2. department_name (Name of the department)\\n\\n3. manager_id (ID of the department manager)\\n\\n4. location (Location of the department)\\n\\n5. budget (Annual budget of the department)\\n\\n6. department_telephone (contact number for audio communination)\\n\\n7. email (Contact email for the department)\\n\\n8. number_of_employees (Number of employees in the department)\\n\\n9. established_date (Date the department was established)\\n\\n10. department_goal (Primary goal of the department)\\n\\n11. performance_rating (Performance rating of the department)\\n\\n12. primary_function (Primary function of the department)\\n\\n13. subsidiary (Subsidiary under which the department operates)\\n\\n14. main_product (Main product the department deals with)\\n\\n15. strategy (Strategic goals of the department)\\n\\nTable name: inventory\\n\\nDescription: Stores inventory information\\n\\nColumn name Description\\n\\n1. inventory_id (Unique identifier for each inventory record)\\n\\n2. inventory_item_id (ID of the purchased item)\\n\\n3. warehouse_location (Location of the warehouse)\\n\\n4. stock_quantity (Quantity of product in stock)\\n\\n5. reorder_level (Stock level at which reorder is needed)\\n\\n6. reorder_quantity (Quantity to reorder when stock is low)\\n\\n7. supplier_id (ID of the product supplier)\\n\\n8. batch_number (Batch number of the product)\\n\\n9. expiry_date (Expiry date of the product batch)\\n\\n10. manufacture_date (Manufacture date of the product batch)\\n\\n11. storage_conditions (Storage conditions for the product)\\n\\n12. last_restock_date (Date when the product was last restocked)\\n\\n13. lead_time (Lead time for product replenishment)\\n\\n14. cost_per_unit (Cost per unit of the product)\\n\\n15. total_value (Total value of the inventory)\\n\\nTable name: suppliers\\n\\nDescription: Stores supplier information\\n\\nColumn name Description\\n\\n1. supplier_id (Unique identifier for each supplier)\\n\\n2. supplier_name (Name of the supplier)\\n\\n3. contact_name (Contact person's name at the supplier)\\n\\n4. contact_email (Contact person's email at the supplier)\\n\\n5. contact_phone (Contact person's phone number at the supplier)\\n\\n6. supplier_office_address (Physical location of agent)\\n\\n7. city (City where the supplier is located)\\n\\n8. state (State where the supplier is located)\\n\\n9. zip_code (ZIP code of the supplier's location)\\n\\n10. country (Country where the supplier is located)\\n\\n11. products_supplied (Products supplied by the supplier)\\n\\n12. rating (Rating of the supplier)\\n\\n13. payment_terms (Payment terms agreed with the supplier)\\n\\n14. delivery_schedule (Delivery schedule agreed with the supplier)\\n\\n15. last_order_date (Date when the last order was placed with the supplier)\\n\\nTable name: orders\\n\\nDescription: Stores order information\\n\\nColumn name Description\\n\\n1. order_id (Unique identifier for each order)\\n\\n2. purchaser_order_id (ID of the customer who made the purchase)\\n\\n3. order_date (Date when the order was placed)\\n\\n4. order_status (Current status of the order (e.g., Processing, Shipped, Delivered))\\n\\n5. shipping_date (Date when the order was shipped)\\n\\n6. delivery_date (Date when the order was delivered)\\n\\n7. shipping_method (Shipping method used for the order)\\n\\n8. tracking_number (Tracking number for the shipment)\\n\\n9. billing_address (Billing address for the order)\\n\\n10. shipping_address (Shipping address for the order)\\n\\n11. payment_method (Payment method used for the order)\\n\\n12. total_amount (Total amount for the order)\\n\\n13. tax_amount (Tax amount for the order)\\n\\n14. discount_amount (Discount amount applied to the order)\\n\\n15. currency (Currency in which the order was placed)\\n\\nTable name: customers\\n\\nDescription: Stores customer information\\n\\nColumn name Description\\n\\n1. client_id (ID of the customer who made the purchase)\\n\\n2. first_name (First name of the customer)\\n\\n3. last_name (Last name of the customer)\\n\\n4. email (Email address of the customer)\\n\\n5. customer_contact_number (contact number for audio communination)\\n\\n6. registration_date (Date the customer registered)\\n\\n7. country (Country of the customer)\\n\\n8. customer_home_address (Physical location of agent)\\n\\n9. city (City of the customer)\\n\\n10. state (State of the customer)\\n\\n11. zip_code (ZIP code of the customer)\\n\\n12. date_of_birth (Date of birth of the customer)\\n\\n13. gender (Gender of the customer)\\n\\n14. loyalty_status (Loyalty status of the customer (e.g., Gold, Silver))\\n\\n15. last_purchase_date (Date of the last purchase made by the customer)\", metadata={'source': '/content/new_data.pdf'})]\n",
            "</s>\n",
            "<|user|>\n",
            "Give me tables names that have (description:ID of the customer who made the purchase)\n",
            "</s>\n",
            "<|assistant|>\n",
            "The tables that have the description \"ID of the customer who made the purchase\" are:\n",
            "\n",
            "1. sales\n",
            "2. support_tickets\n",
            "3. orders\n",
            "4. customers\n",
            "\n",
            "These tables store information related to sales, support tickets, orders, and customers respectively, and each of them has a column named \"buyer_id\" or \"purchaser_order_id\" which represents the ID of the customer who made the purchase.\n"
          ]
        }
      ]
    },
    {
      "cell_type": "code",
      "source": [
        "print(chain.invoke(\"Tell me on which column I can join customer, employee and department table\"))"
      ],
      "metadata": {
        "colab": {
          "base_uri": "https://localhost:8080/"
        },
        "id": "KzBT35AX7itl",
        "outputId": "8c2a61d6-8110-4bce-fd81-4dab41c54c98"
      },
      "execution_count": 27,
      "outputs": [
        {
          "output_type": "stream",
          "name": "stderr",
          "text": [
            "WARNING:chromadb.segment.impl.vector.local_hnsw:Number of requested results 4 is greater than number of elements in index 1, updating n_results = 1\n"
          ]
        },
        {
          "output_type": "stream",
          "name": "stdout",
          "text": [
            "Human: \n",
            "<|system|>>\n",
            "                                              !! Hello !!\n",
            "                                          This is AI Model-2.0\n",
            "                                        How may I help you today?\n",
            "\n",
            "CONTEXT: [Document(page_content=\"Table name: products\\n\\nDescription: Stores product information\\n\\nColumn name Description\\n\\n1. product_code (ID of the purchased item)\\n\\n2. product_name (Name of the product)\\n\\n3. category (Product category (e.g., Smartphone, TV))\\n\\n4. launch_date (Launch date of the product)\\n\\n5. price (Price of the product)\\n\\n6. manufacturer (Manufacturer of the product)\\n\\n7. warranty_period (Warranty period of the product)\\n\\n8. stock_quantity (Quantity of product in stock)\\n\\n9. rating (Customer rating of the product)\\n\\n10. dimensions (Dimensions of the product)\\n\\n11. weight (Weight of the product)\\n\\n12. color (Color of the product)\\n\\n13. material (Material of the product)\\n\\n14. power_usage (Power usage of the product)\\n\\n15. model_number (Model number of the product)\\n\\nTable name: sales\\n\\nDescription: Stores sales information\\n\\nColumn name Description\\n\\n1. sale_id (Unique identifier for each sale)\\n\\n2. buyer_id (ID of the customer who made the purchase)\\n\\n3. transaction_product_id (ID of the purchased item)\\n\\n4. sale_date (Date of the sale)\\n\\n5. quantity (Quantity of products sold)\\n\\n6. total_amount (Total amount for the sale)\\n\\n7. sales_channel (Channel through which the sale was made (e.g., Online, In-store))\\n\\n8. payment_method (Payment method used for the sale)\\n\\n9. discount (Discount applied to the sale)\\n\\n10. sales_rep (Sales representative handling the sale)\\n\\n11. delivery_date (Delivery date of the sold product)\\n\\n12. delivery_status (Delivery status of the sold product)\\n\\n13. invoice_number (Invoice number for the sale)\\n\\n14. shipping_cost (Shipping cost for the sale)\\n\\n15. tax_amount (Tax amount applied to the sale)\\n\\nTable name: support_tickets\\n\\nDescription: Stores customer support ticket information\\n\\nColumn name Description\\n\\n1. ticket_id (Unique identifier for each support ticket)\\n\\n2. client_ticket_id (ID of the customer who made the purchase)\\n\\n3. product_issue_id (ID of the purchased item)\\n\\n4. issue_date (Date the issue was reported)\\n\\n5. issue_type (Type of issue (e.g., Hardware, Software))\\n\\n6. resolution_date (Date the issue was resolved)\\n\\n7. status (Status of the ticket (e.g., Open, Closed))\\n\\n8. support_agent (Support agent handling the ticket)\\n\\n9. priority (Priority level of the ticket)\\n\\n10. response_time (Time taken to respond to the ticket)\\n\\n11. issue_description (Description of the issue)\\n\\n12. resolution_details (Details of the resolution)\\n\\n13. feedback_score (Feedback score given by the customer)\\n\\n14. follow_up_date (Date for a follow-up on the ticket)\\n\\n15. category (Category of the issue)\\n\\nTable name: marketing_campaigns\\n\\nDescription: Stores marketing campaign information\\n\\nColumn name Description\\n\\n1. campaign_id (Unique identifier for each campaign)\\n\\n2. campaign_name (Name of the campaign)\\n\\n3. start_date (Start date of the campaign)\\n\\n4. end_date (End date of the campaign)\\n\\n5. budget (Budget allocated for the campaign)\\n\\n6. target_audience (Target audience for the campaign)\\n\\n7. advertised_product_id (ID of the purchased item)\\n\\n8. channels (Marketing channels used in the campaign (e.g., TV, Social Media))\\n\\n9. goal (Primary goal of the campaign (e.g., Brand Awareness, Lead Generation))\\n\\n10. region (Geographical region targeted by the campaign)\\n\\n11. creative_idea (Creative idea or theme of the campaign)\\n\\n12. ad_spend (Amount spent on advertising during the campaign)\\n\\n13. leads_generated (Number of leads generated through the campaign)\\n\\n14. conversions (Number of conversions achieved through the campaign)\\n\\n15. roi (Return on investment for the campaign)\\n\\nTable name: employees\\n\\nDescription: Stores employee information\\n\\nColumn name Description\\n\\n1. employee_id (Unique identifier for each employee)\\n\\n2. first_name (First name of the employee)\\n\\n3. last_name (Last name of the employee)\\n\\n4. email (Email address of the employee)\\n\\n5. staff_contact (contact number for audio communination)\\n\\n6. hire_date (Date the employee was hired)\\n\\n7. job_title (Job title of the employee)\\n\\n8. department (Department where the employee works)\\n\\n9. manager_id (ID of the employee's manager)\\n\\n10. salary (Annual salary of the employee)\\n\\n11. bonus (Annual bonus of the employee)\\n\\n12. commission_pct (Commission percentage of the employee)\\n\\n13. staff_residence (Physical location of agent)\\n\\n14. city (City of the employee)\\n\\n15. state (State of the employee)\\n\\nTable name: departments\\n\\nDescription: Stores department information\\n\\nColumn name Description\\n\\n1. department_id (Unique identifier for each department)\\n\\n2. department_name (Name of the department)\\n\\n3. manager_id (ID of the department manager)\\n\\n4. location (Location of the department)\\n\\n5. budget (Annual budget of the department)\\n\\n6. department_telephone (contact number for audio communination)\\n\\n7. email (Contact email for the department)\\n\\n8. number_of_employees (Number of employees in the department)\\n\\n9. established_date (Date the department was established)\\n\\n10. department_goal (Primary goal of the department)\\n\\n11. performance_rating (Performance rating of the department)\\n\\n12. primary_function (Primary function of the department)\\n\\n13. subsidiary (Subsidiary under which the department operates)\\n\\n14. main_product (Main product the department deals with)\\n\\n15. strategy (Strategic goals of the department)\\n\\nTable name: inventory\\n\\nDescription: Stores inventory information\\n\\nColumn name Description\\n\\n1. inventory_id (Unique identifier for each inventory record)\\n\\n2. inventory_item_id (ID of the purchased item)\\n\\n3. warehouse_location (Location of the warehouse)\\n\\n4. stock_quantity (Quantity of product in stock)\\n\\n5. reorder_level (Stock level at which reorder is needed)\\n\\n6. reorder_quantity (Quantity to reorder when stock is low)\\n\\n7. supplier_id (ID of the product supplier)\\n\\n8. batch_number (Batch number of the product)\\n\\n9. expiry_date (Expiry date of the product batch)\\n\\n10. manufacture_date (Manufacture date of the product batch)\\n\\n11. storage_conditions (Storage conditions for the product)\\n\\n12. last_restock_date (Date when the product was last restocked)\\n\\n13. lead_time (Lead time for product replenishment)\\n\\n14. cost_per_unit (Cost per unit of the product)\\n\\n15. total_value (Total value of the inventory)\\n\\nTable name: suppliers\\n\\nDescription: Stores supplier information\\n\\nColumn name Description\\n\\n1. supplier_id (Unique identifier for each supplier)\\n\\n2. supplier_name (Name of the supplier)\\n\\n3. contact_name (Contact person's name at the supplier)\\n\\n4. contact_email (Contact person's email at the supplier)\\n\\n5. contact_phone (Contact person's phone number at the supplier)\\n\\n6. supplier_office_address (Physical location of agent)\\n\\n7. city (City where the supplier is located)\\n\\n8. state (State where the supplier is located)\\n\\n9. zip_code (ZIP code of the supplier's location)\\n\\n10. country (Country where the supplier is located)\\n\\n11. products_supplied (Products supplied by the supplier)\\n\\n12. rating (Rating of the supplier)\\n\\n13. payment_terms (Payment terms agreed with the supplier)\\n\\n14. delivery_schedule (Delivery schedule agreed with the supplier)\\n\\n15. last_order_date (Date when the last order was placed with the supplier)\\n\\nTable name: orders\\n\\nDescription: Stores order information\\n\\nColumn name Description\\n\\n1. order_id (Unique identifier for each order)\\n\\n2. purchaser_order_id (ID of the customer who made the purchase)\\n\\n3. order_date (Date when the order was placed)\\n\\n4. order_status (Current status of the order (e.g., Processing, Shipped, Delivered))\\n\\n5. shipping_date (Date when the order was shipped)\\n\\n6. delivery_date (Date when the order was delivered)\\n\\n7. shipping_method (Shipping method used for the order)\\n\\n8. tracking_number (Tracking number for the shipment)\\n\\n9. billing_address (Billing address for the order)\\n\\n10. shipping_address (Shipping address for the order)\\n\\n11. payment_method (Payment method used for the order)\\n\\n12. total_amount (Total amount for the order)\\n\\n13. tax_amount (Tax amount for the order)\\n\\n14. discount_amount (Discount amount applied to the order)\\n\\n15. currency (Currency in which the order was placed)\\n\\nTable name: customers\\n\\nDescription: Stores customer information\\n\\nColumn name Description\\n\\n1. client_id (ID of the customer who made the purchase)\\n\\n2. first_name (First name of the customer)\\n\\n3. last_name (Last name of the customer)\\n\\n4. email (Email address of the customer)\\n\\n5. customer_contact_number (contact number for audio communination)\\n\\n6. registration_date (Date the customer registered)\\n\\n7. country (Country of the customer)\\n\\n8. customer_home_address (Physical location of agent)\\n\\n9. city (City of the customer)\\n\\n10. state (State of the customer)\\n\\n11. zip_code (ZIP code of the customer)\\n\\n12. date_of_birth (Date of birth of the customer)\\n\\n13. gender (Gender of the customer)\\n\\n14. loyalty_status (Loyalty status of the customer (e.g., Gold, Silver))\\n\\n15. last_purchase_date (Date of the last purchase made by the customer)\", metadata={'source': '/content/new_data.pdf'})]\n",
            "</s>\n",
            "<|user|>\n",
            "Tell me on which column I can join customer, employee and department table\n",
            "</s>\n",
            "<|assistant|>\n",
            "To join the customer, employee, and department tables, you can use the 'department_id' column in the department table as a common key to join with the employee table and the customer table.\n",
            "\n",
            "In the employee table, the 'department_id' column represents the department that the employee belongs to. Similarly, in the customer table, the department_id column can be used to identify the department that the customer belongs to, assuming that customers are associated with departments (for example, if a customer is a corporate customer, they might be associated with a specific department).\n",
            "\n",
            "By joining on the department_id column, you can create relationships between the three tables, allowing you to query data across multiple tables based on department affiliations. For example, you could find out the total number of employees in a specific department, or the total sales made by customers associated with a particular department.\n"
          ]
        }
      ]
    },
    {
      "cell_type": "code",
      "source": [
        "print(chain.invoke(\"Tell me column that connects these customer, employee and department table\"))"
      ],
      "metadata": {
        "colab": {
          "base_uri": "https://localhost:8080/"
        },
        "id": "zn7bOp_-8SbO",
        "outputId": "0a02b0ed-6388-4838-a850-5e9002da2c8b"
      },
      "execution_count": 28,
      "outputs": [
        {
          "output_type": "stream",
          "name": "stderr",
          "text": [
            "WARNING:chromadb.segment.impl.vector.local_hnsw:Number of requested results 4 is greater than number of elements in index 1, updating n_results = 1\n"
          ]
        },
        {
          "output_type": "stream",
          "name": "stdout",
          "text": [
            "Human: \n",
            "<|system|>>\n",
            "                                              !! Hello !!\n",
            "                                          This is AI Model-2.0\n",
            "                                        How may I help you today?\n",
            "\n",
            "CONTEXT: [Document(page_content=\"Table name: products\\n\\nDescription: Stores product information\\n\\nColumn name Description\\n\\n1. product_code (ID of the purchased item)\\n\\n2. product_name (Name of the product)\\n\\n3. category (Product category (e.g., Smartphone, TV))\\n\\n4. launch_date (Launch date of the product)\\n\\n5. price (Price of the product)\\n\\n6. manufacturer (Manufacturer of the product)\\n\\n7. warranty_period (Warranty period of the product)\\n\\n8. stock_quantity (Quantity of product in stock)\\n\\n9. rating (Customer rating of the product)\\n\\n10. dimensions (Dimensions of the product)\\n\\n11. weight (Weight of the product)\\n\\n12. color (Color of the product)\\n\\n13. material (Material of the product)\\n\\n14. power_usage (Power usage of the product)\\n\\n15. model_number (Model number of the product)\\n\\nTable name: sales\\n\\nDescription: Stores sales information\\n\\nColumn name Description\\n\\n1. sale_id (Unique identifier for each sale)\\n\\n2. buyer_id (ID of the customer who made the purchase)\\n\\n3. transaction_product_id (ID of the purchased item)\\n\\n4. sale_date (Date of the sale)\\n\\n5. quantity (Quantity of products sold)\\n\\n6. total_amount (Total amount for the sale)\\n\\n7. sales_channel (Channel through which the sale was made (e.g., Online, In-store))\\n\\n8. payment_method (Payment method used for the sale)\\n\\n9. discount (Discount applied to the sale)\\n\\n10. sales_rep (Sales representative handling the sale)\\n\\n11. delivery_date (Delivery date of the sold product)\\n\\n12. delivery_status (Delivery status of the sold product)\\n\\n13. invoice_number (Invoice number for the sale)\\n\\n14. shipping_cost (Shipping cost for the sale)\\n\\n15. tax_amount (Tax amount applied to the sale)\\n\\nTable name: support_tickets\\n\\nDescription: Stores customer support ticket information\\n\\nColumn name Description\\n\\n1. ticket_id (Unique identifier for each support ticket)\\n\\n2. client_ticket_id (ID of the customer who made the purchase)\\n\\n3. product_issue_id (ID of the purchased item)\\n\\n4. issue_date (Date the issue was reported)\\n\\n5. issue_type (Type of issue (e.g., Hardware, Software))\\n\\n6. resolution_date (Date the issue was resolved)\\n\\n7. status (Status of the ticket (e.g., Open, Closed))\\n\\n8. support_agent (Support agent handling the ticket)\\n\\n9. priority (Priority level of the ticket)\\n\\n10. response_time (Time taken to respond to the ticket)\\n\\n11. issue_description (Description of the issue)\\n\\n12. resolution_details (Details of the resolution)\\n\\n13. feedback_score (Feedback score given by the customer)\\n\\n14. follow_up_date (Date for a follow-up on the ticket)\\n\\n15. category (Category of the issue)\\n\\nTable name: marketing_campaigns\\n\\nDescription: Stores marketing campaign information\\n\\nColumn name Description\\n\\n1. campaign_id (Unique identifier for each campaign)\\n\\n2. campaign_name (Name of the campaign)\\n\\n3. start_date (Start date of the campaign)\\n\\n4. end_date (End date of the campaign)\\n\\n5. budget (Budget allocated for the campaign)\\n\\n6. target_audience (Target audience for the campaign)\\n\\n7. advertised_product_id (ID of the purchased item)\\n\\n8. channels (Marketing channels used in the campaign (e.g., TV, Social Media))\\n\\n9. goal (Primary goal of the campaign (e.g., Brand Awareness, Lead Generation))\\n\\n10. region (Geographical region targeted by the campaign)\\n\\n11. creative_idea (Creative idea or theme of the campaign)\\n\\n12. ad_spend (Amount spent on advertising during the campaign)\\n\\n13. leads_generated (Number of leads generated through the campaign)\\n\\n14. conversions (Number of conversions achieved through the campaign)\\n\\n15. roi (Return on investment for the campaign)\\n\\nTable name: employees\\n\\nDescription: Stores employee information\\n\\nColumn name Description\\n\\n1. employee_id (Unique identifier for each employee)\\n\\n2. first_name (First name of the employee)\\n\\n3. last_name (Last name of the employee)\\n\\n4. email (Email address of the employee)\\n\\n5. staff_contact (contact number for audio communination)\\n\\n6. hire_date (Date the employee was hired)\\n\\n7. job_title (Job title of the employee)\\n\\n8. department (Department where the employee works)\\n\\n9. manager_id (ID of the employee's manager)\\n\\n10. salary (Annual salary of the employee)\\n\\n11. bonus (Annual bonus of the employee)\\n\\n12. commission_pct (Commission percentage of the employee)\\n\\n13. staff_residence (Physical location of agent)\\n\\n14. city (City of the employee)\\n\\n15. state (State of the employee)\\n\\nTable name: departments\\n\\nDescription: Stores department information\\n\\nColumn name Description\\n\\n1. department_id (Unique identifier for each department)\\n\\n2. department_name (Name of the department)\\n\\n3. manager_id (ID of the department manager)\\n\\n4. location (Location of the department)\\n\\n5. budget (Annual budget of the department)\\n\\n6. department_telephone (contact number for audio communination)\\n\\n7. email (Contact email for the department)\\n\\n8. number_of_employees (Number of employees in the department)\\n\\n9. established_date (Date the department was established)\\n\\n10. department_goal (Primary goal of the department)\\n\\n11. performance_rating (Performance rating of the department)\\n\\n12. primary_function (Primary function of the department)\\n\\n13. subsidiary (Subsidiary under which the department operates)\\n\\n14. main_product (Main product the department deals with)\\n\\n15. strategy (Strategic goals of the department)\\n\\nTable name: inventory\\n\\nDescription: Stores inventory information\\n\\nColumn name Description\\n\\n1. inventory_id (Unique identifier for each inventory record)\\n\\n2. inventory_item_id (ID of the purchased item)\\n\\n3. warehouse_location (Location of the warehouse)\\n\\n4. stock_quantity (Quantity of product in stock)\\n\\n5. reorder_level (Stock level at which reorder is needed)\\n\\n6. reorder_quantity (Quantity to reorder when stock is low)\\n\\n7. supplier_id (ID of the product supplier)\\n\\n8. batch_number (Batch number of the product)\\n\\n9. expiry_date (Expiry date of the product batch)\\n\\n10. manufacture_date (Manufacture date of the product batch)\\n\\n11. storage_conditions (Storage conditions for the product)\\n\\n12. last_restock_date (Date when the product was last restocked)\\n\\n13. lead_time (Lead time for product replenishment)\\n\\n14. cost_per_unit (Cost per unit of the product)\\n\\n15. total_value (Total value of the inventory)\\n\\nTable name: suppliers\\n\\nDescription: Stores supplier information\\n\\nColumn name Description\\n\\n1. supplier_id (Unique identifier for each supplier)\\n\\n2. supplier_name (Name of the supplier)\\n\\n3. contact_name (Contact person's name at the supplier)\\n\\n4. contact_email (Contact person's email at the supplier)\\n\\n5. contact_phone (Contact person's phone number at the supplier)\\n\\n6. supplier_office_address (Physical location of agent)\\n\\n7. city (City where the supplier is located)\\n\\n8. state (State where the supplier is located)\\n\\n9. zip_code (ZIP code of the supplier's location)\\n\\n10. country (Country where the supplier is located)\\n\\n11. products_supplied (Products supplied by the supplier)\\n\\n12. rating (Rating of the supplier)\\n\\n13. payment_terms (Payment terms agreed with the supplier)\\n\\n14. delivery_schedule (Delivery schedule agreed with the supplier)\\n\\n15. last_order_date (Date when the last order was placed with the supplier)\\n\\nTable name: orders\\n\\nDescription: Stores order information\\n\\nColumn name Description\\n\\n1. order_id (Unique identifier for each order)\\n\\n2. purchaser_order_id (ID of the customer who made the purchase)\\n\\n3. order_date (Date when the order was placed)\\n\\n4. order_status (Current status of the order (e.g., Processing, Shipped, Delivered))\\n\\n5. shipping_date (Date when the order was shipped)\\n\\n6. delivery_date (Date when the order was delivered)\\n\\n7. shipping_method (Shipping method used for the order)\\n\\n8. tracking_number (Tracking number for the shipment)\\n\\n9. billing_address (Billing address for the order)\\n\\n10. shipping_address (Shipping address for the order)\\n\\n11. payment_method (Payment method used for the order)\\n\\n12. total_amount (Total amount for the order)\\n\\n13. tax_amount (Tax amount for the order)\\n\\n14. discount_amount (Discount amount applied to the order)\\n\\n15. currency (Currency in which the order was placed)\\n\\nTable name: customers\\n\\nDescription: Stores customer information\\n\\nColumn name Description\\n\\n1. client_id (ID of the customer who made the purchase)\\n\\n2. first_name (First name of the customer)\\n\\n3. last_name (Last name of the customer)\\n\\n4. email (Email address of the customer)\\n\\n5. customer_contact_number (contact number for audio communination)\\n\\n6. registration_date (Date the customer registered)\\n\\n7. country (Country of the customer)\\n\\n8. customer_home_address (Physical location of agent)\\n\\n9. city (City of the customer)\\n\\n10. state (State of the customer)\\n\\n11. zip_code (ZIP code of the customer)\\n\\n12. date_of_birth (Date of birth of the customer)\\n\\n13. gender (Gender of the customer)\\n\\n14. loyalty_status (Loyalty status of the customer (e.g., Gold, Silver))\\n\\n15. last_purchase_date (Date of the last purchase made by the customer)\", metadata={'source': '/content/new_data.pdf'})]\n",
            "</s>\n",
            "<|user|>\n",
            "Tell me column that connects these customer, employee and department table\n",
            "</s>\n",
            "<|assistant|>\n",
            "To connect the customer, employee, and department tables, you would typically use a column that links them together. In this case, if there is a common column that exists in both the customer and employee tables, you could use that column to link the two tables. For example, if both tables have a column named \"employee_id\", you could create a foreign key in the customer table that references the employee_id column in the employee table.\n",
            "\n",
            "Similarly, if there is a common column that exists in both the employee and department tables, you could use that column to link the two tables. For example, if both tables have a column named \"manager_id\", you could create a foreign key in the employee table that references the manager_id column in the department table.\n",
            "\n",
            "However, in the context of the provided tables, I don't see any common column that can be used to directly link the customer, employee, and department tables. To establish relationships between these tables, you would likely need to create a separate table that contains the necessary relationships. For example, you could create a \"employee_department\" table that contains columns for employee_id, department_id, and other relevant information. Then, you could create foreign keys in the customer and department tables that reference the employee_id column in the employee_department table.\n",
            "\n",
            "In summary, to connect the customer, employee, and department tables, you would need to establish relationships between them using foreign keys. If there is no common column that can be used to directly link these tables, you would need to create a separate table that contains the necessary relationships.\n"
          ]
        }
      ]
    }
  ]
}